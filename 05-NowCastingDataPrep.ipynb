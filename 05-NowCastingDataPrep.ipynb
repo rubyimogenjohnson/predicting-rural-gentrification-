{
 "cells": [
  {
   "cell_type": "markdown",
   "id": "4ad2621e-d1ca-4968-af69-b359e27331e5",
   "metadata": {},
   "source": [
    "# Dissertation\n",
    "    \n",
    "# **Notebook 6: Ascending NowCasting Preperation**\n",
    "    \n",
    "This notebook will read in and prepare metrics for creating scores. \n",
    "\n",
    "***"
   ]
  },
  {
   "cell_type": "code",
   "execution_count": 56,
   "id": "98847d38-30b2-4286-8011-286ea8fcfd13",
   "metadata": {},
   "outputs": [],
   "source": [
    "# Import packages\n",
    "\n",
    "import pandas as pd\n",
    "import os\n",
    "import geopandas as gpd\n",
    "import numpy as np\n",
    "import matplotlib.pyplot as plt\n",
    "from shapely.geometry import Point\n",
    "from matplotlib_scalebar.scalebar import ScaleBar\n",
    "import seaborn as sns"
   ]
  },
  {
   "cell_type": "code",
   "execution_count": 57,
   "id": "939c6d14-2dce-41cd-b7bc-49cce86b918a",
   "metadata": {},
   "outputs": [
    {
     "name": "stdout",
     "output_type": "stream",
     "text": [
      "The working directory is /home/jovyan/work/OneDrive/UCL/Dissertation/Notebooks V3\n"
     ]
    }
   ],
   "source": [
    "# Look at working dir\n",
    "\n",
    "print(\"The working directory is \" + os.getcwd())"
   ]
  },
  {
   "cell_type": "code",
   "execution_count": 58,
   "id": "f87566ff-5e43-4974-b890-e544d8400d35",
   "metadata": {},
   "outputs": [],
   "source": [
    "shapefiles = os.path.join(\"Shapefiles\")\n",
    "\n",
    "profiles = os.path.join(\"LSOA Profiles\")\n",
    "\n",
    "clean = os.path.join(\"Cleaned data\")\n",
    "\n",
    "nc = os.path.join(\"Data\", \"Now-Casting\")"
   ]
  },
  {
   "cell_type": "code",
   "execution_count": 59,
   "id": "13164f67-fa0f-4c22-baf4-ed7e19a89b03",
   "metadata": {},
   "outputs": [],
   "source": [
    "def infodf(dataframe):\n",
    "    print(f\"There are \"+str(len(dataframe)) + \" rows in the dataframe\")\n",
    "    print(f\"There are \" + str(dataframe.shape[1]) + \" columns in the data frame\")\n",
    "    print(f\"The columns of the dataframe are: \" + str(dataframe.columns))\n",
    "    print(f\"There are \" + str(dataframe.isnull().sum().sum()) + \" NaN values in the data frame\")\n",
    "    print(f\"These NaN values are located in columns: \" + str(dataframe.columns[dataframe.isnull().any()].tolist()))"
   ]
  },
  {
   "cell_type": "markdown",
   "id": "f96a790c-bab5-48a8-ab84-d775c121a227",
   "metadata": {},
   "source": [
    "# 1. Income\n",
    "\n",
    "2.1 2014"
   ]
  },
  {
   "cell_type": "code",
   "execution_count": 60,
   "id": "53d7780a-375e-4b89-8a70-7310bbbb2fee",
   "metadata": {},
   "outputs": [],
   "source": [
    "income = pd.read_csv(os.path.join(nc, \"income.csv\"))"
   ]
  },
  {
   "cell_type": "code",
   "execution_count": 61,
   "id": "e169362e-d2ae-4d8a-af10-24bbe99ee97f",
   "metadata": {},
   "outputs": [],
   "source": [
    "# Read in spatial data\n",
    "\n",
    "msoa_2011 = gpd.read_file(os.path.join(\"shapefiles\", \"MSOA_2011.shp\"))\n",
    "lsoa_2011 = gpd.read_file(os.path.join(\"shapefiles\", \"LSOA_KENT_2011.shp\"))"
   ]
  },
  {
   "cell_type": "code",
   "execution_count": 62,
   "id": "8c6cbed2-c337-41d5-8c59-5b5860cc09e3",
   "metadata": {},
   "outputs": [],
   "source": [
    "# Join \n",
    "\n",
    "income_kent = pd.merge(income, msoa_2011, on=\"MSOA11CD\", how=\"right\")"
   ]
  },
  {
   "cell_type": "code",
   "execution_count": 63,
   "id": "f0d88b74-a71a-4a17-afcd-7976b016e92a",
   "metadata": {},
   "outputs": [],
   "source": [
    "income_kent = income_kent[[\"MSOA11CD\", \"Income_2014\", \"Income_2018\"]]"
   ]
  },
  {
   "cell_type": "code",
   "execution_count": 64,
   "id": "3e950808-a52a-44eb-9b3a-5ed5847f49c6",
   "metadata": {},
   "outputs": [
    {
     "data": {
      "text/plain": [
       "MSOA11CD        object\n",
       "Income_2014    float64\n",
       "Income_2018    float64\n",
       "dtype: object"
      ]
     },
     "execution_count": 64,
     "metadata": {},
     "output_type": "execute_result"
    }
   ],
   "source": [
    "income_kent.dtypes"
   ]
  },
  {
   "cell_type": "code",
   "execution_count": 65,
   "id": "85cc67a5-6ac1-46f0-a09f-a3414a41f294",
   "metadata": {},
   "outputs": [],
   "source": [
    "income_kent.to_csv(os.path.join(nc, \"income_kent.csv\"), index=False)"
   ]
  },
  {
   "cell_type": "code",
   "execution_count": 66,
   "id": "1406c4c6-810c-434f-94d5-0ec23cdafc5c",
   "metadata": {},
   "outputs": [],
   "source": [
    "income_lsoa = pd.read_csv(os.path.join(nc, \"income_kent_lsoa.csv\"))"
   ]
  },
  {
   "cell_type": "code",
   "execution_count": 67,
   "id": "edd5abd3-106a-4b0b-84c1-fc1c851fd008",
   "metadata": {},
   "outputs": [],
   "source": [
    "# Merge to just kent LSOAs\n",
    "\n",
    "income_kent_lsoa = pd.merge(income_lsoa, lsoa_2011, on=\"LSOA11CD\", how=\"right\")"
   ]
  },
  {
   "cell_type": "code",
   "execution_count": 68,
   "id": "8cd8601b-4314-42b9-b016-e417cae6ccf4",
   "metadata": {},
   "outputs": [],
   "source": [
    "income_kent_lsoa_2014 = income_kent_lsoa.filter(regex=\"_2014|LSOA11CD\")\n",
    "income_kent_lsoa_2018 = income_kent_lsoa.filter(regex=\"_2018|LSOA11CD\")"
   ]
  },
  {
   "cell_type": "code",
   "execution_count": 69,
   "id": "a375a891-e7cc-4cb0-b7f0-6540040d6082",
   "metadata": {},
   "outputs": [
    {
     "name": "stdout",
     "output_type": "stream",
     "text": [
      "There are 902 rows in the dataframe\n",
      "There are 5 columns in the data frame\n",
      "The columns of the dataframe are: Index(['LSOA11CD', 'Income_2014', 'Income_2018', 'LSOA11NM', 'geometry'], dtype='object')\n",
      "There are 0 NaN values in the data frame\n",
      "These NaN values are located in columns: []\n"
     ]
    }
   ],
   "source": [
    "infodf(income_kent_lsoa)"
   ]
  },
  {
   "cell_type": "code",
   "execution_count": 70,
   "id": "21d9fed3-455c-41c6-ac62-45a28b1a3622",
   "metadata": {},
   "outputs": [
    {
     "name": "stdout",
     "output_type": "stream",
     "text": [
      "There are 902 rows in the dataframe\n",
      "There are 2 columns in the data frame\n",
      "The columns of the dataframe are: Index(['LSOA11CD', 'Income_2014'], dtype='object')\n",
      "There are 0 NaN values in the data frame\n",
      "These NaN values are located in columns: []\n"
     ]
    }
   ],
   "source": [
    "infodf(income_kent_lsoa_2014)"
   ]
  },
  {
   "cell_type": "code",
   "execution_count": 71,
   "id": "1b4183b4-90a7-47eb-8f70-db93131491f7",
   "metadata": {},
   "outputs": [
    {
     "name": "stdout",
     "output_type": "stream",
     "text": [
      "There are 902 rows in the dataframe\n",
      "There are 2 columns in the data frame\n",
      "The columns of the dataframe are: Index(['LSOA11CD', 'Income_2018'], dtype='object')\n",
      "There are 0 NaN values in the data frame\n",
      "These NaN values are located in columns: []\n"
     ]
    }
   ],
   "source": [
    "infodf(income_kent_lsoa_2018)"
   ]
  },
  {
   "cell_type": "code",
   "execution_count": 72,
   "id": "a3ad9787-2bfa-4a0c-8e9a-5b3d0242d82c",
   "metadata": {},
   "outputs": [],
   "source": [
    "income = pd.merge(income_kent_lsoa_2018, income_kent_lsoa_2014, on=\"LSOA11CD\", how=\"left\")"
   ]
  },
  {
   "cell_type": "markdown",
   "id": "1a152df2-35cf-4729-9602-e4ae9c5ccc28",
   "metadata": {},
   "source": [
    "# 2. House Prices"
   ]
  },
  {
   "cell_type": "code",
   "execution_count": 73,
   "id": "8741212f-26dc-459f-bb5f-1d6c94caa344",
   "metadata": {},
   "outputs": [],
   "source": [
    "house_prices = pd.read_csv(os.path.join(nc, \"Median_Prices_Quarterly.csv\"))"
   ]
  },
  {
   "cell_type": "code",
   "execution_count": 74,
   "id": "9cf19d62-ff5b-452d-98a6-42cd74338a65",
   "metadata": {},
   "outputs": [
    {
     "data": {
      "text/html": [
       "<div>\n",
       "<style scoped>\n",
       "    .dataframe tbody tr th:only-of-type {\n",
       "        vertical-align: middle;\n",
       "    }\n",
       "\n",
       "    .dataframe tbody tr th {\n",
       "        vertical-align: top;\n",
       "    }\n",
       "\n",
       "    .dataframe thead th {\n",
       "        text-align: right;\n",
       "    }\n",
       "</style>\n",
       "<table border=\"1\" class=\"dataframe\">\n",
       "  <thead>\n",
       "    <tr style=\"text-align: right;\">\n",
       "      <th></th>\n",
       "      <th>Unnamed: 0</th>\n",
       "      <th>lsoa_cd</th>\n",
       "      <th>median_95Q1</th>\n",
       "      <th>median_95Q2</th>\n",
       "      <th>median_95Q3</th>\n",
       "      <th>median_95Q4</th>\n",
       "      <th>median_96Q1</th>\n",
       "      <th>median_96Q2</th>\n",
       "      <th>median_96Q3</th>\n",
       "      <th>median_96Q4</th>\n",
       "      <th>...</th>\n",
       "      <th>median_16Q3</th>\n",
       "      <th>median_16Q4</th>\n",
       "      <th>median_17Q1</th>\n",
       "      <th>median_17Q2</th>\n",
       "      <th>median_17Q3</th>\n",
       "      <th>median_17Q4</th>\n",
       "      <th>median_18Q1</th>\n",
       "      <th>median_18Q2</th>\n",
       "      <th>median_18Q3</th>\n",
       "      <th>median_18Q4</th>\n",
       "    </tr>\n",
       "  </thead>\n",
       "  <tbody>\n",
       "    <tr>\n",
       "      <th>0</th>\n",
       "      <td>1</td>\n",
       "      <td>NaN</td>\n",
       "      <td>59000.0</td>\n",
       "      <td>62500.0</td>\n",
       "      <td>55000.0</td>\n",
       "      <td>60000.0</td>\n",
       "      <td>61495.0</td>\n",
       "      <td>50000.0</td>\n",
       "      <td>70500.0</td>\n",
       "      <td>71000.0</td>\n",
       "      <td>...</td>\n",
       "      <td>86415.0</td>\n",
       "      <td>50450.0</td>\n",
       "      <td>66435.0</td>\n",
       "      <td>25091.0</td>\n",
       "      <td>39997.5</td>\n",
       "      <td>108705.0</td>\n",
       "      <td>58000.0</td>\n",
       "      <td>72934.0</td>\n",
       "      <td>60000.0</td>\n",
       "      <td>75950.0</td>\n",
       "    </tr>\n",
       "    <tr>\n",
       "      <th>1</th>\n",
       "      <td>2</td>\n",
       "      <td>E01000001</td>\n",
       "      <td>99500.0</td>\n",
       "      <td>112475.0</td>\n",
       "      <td>123500.0</td>\n",
       "      <td>104671.0</td>\n",
       "      <td>129000.0</td>\n",
       "      <td>129750.0</td>\n",
       "      <td>152500.0</td>\n",
       "      <td>169375.0</td>\n",
       "      <td>...</td>\n",
       "      <td>880000.0</td>\n",
       "      <td>972500.0</td>\n",
       "      <td>1085000.0</td>\n",
       "      <td>872500.0</td>\n",
       "      <td>972500.0</td>\n",
       "      <td>2150000.0</td>\n",
       "      <td>900000.0</td>\n",
       "      <td>825000.0</td>\n",
       "      <td>695000.0</td>\n",
       "      <td>806000.0</td>\n",
       "    </tr>\n",
       "    <tr>\n",
       "      <th>2</th>\n",
       "      <td>3</td>\n",
       "      <td>E01000002</td>\n",
       "      <td>110000.0</td>\n",
       "      <td>135000.0</td>\n",
       "      <td>112500.0</td>\n",
       "      <td>132000.0</td>\n",
       "      <td>119275.0</td>\n",
       "      <td>112000.0</td>\n",
       "      <td>135000.0</td>\n",
       "      <td>117500.0</td>\n",
       "      <td>...</td>\n",
       "      <td>852500.0</td>\n",
       "      <td>937500.0</td>\n",
       "      <td>960000.0</td>\n",
       "      <td>970000.0</td>\n",
       "      <td>849950.0</td>\n",
       "      <td>776774.0</td>\n",
       "      <td>720000.0</td>\n",
       "      <td>617500.0</td>\n",
       "      <td>870000.0</td>\n",
       "      <td>997000.0</td>\n",
       "    </tr>\n",
       "    <tr>\n",
       "      <th>3</th>\n",
       "      <td>4</td>\n",
       "      <td>E01000003</td>\n",
       "      <td>75000.0</td>\n",
       "      <td>64200.0</td>\n",
       "      <td>66000.0</td>\n",
       "      <td>92000.0</td>\n",
       "      <td>90000.0</td>\n",
       "      <td>65000.0</td>\n",
       "      <td>73000.0</td>\n",
       "      <td>90000.0</td>\n",
       "      <td>...</td>\n",
       "      <td>795000.0</td>\n",
       "      <td>686250.0</td>\n",
       "      <td>751875.0</td>\n",
       "      <td>760000.0</td>\n",
       "      <td>830000.0</td>\n",
       "      <td>750000.0</td>\n",
       "      <td>702500.0</td>\n",
       "      <td>655250.0</td>\n",
       "      <td>730000.0</td>\n",
       "      <td>683500.0</td>\n",
       "    </tr>\n",
       "    <tr>\n",
       "      <th>4</th>\n",
       "      <td>5</td>\n",
       "      <td>E01000005</td>\n",
       "      <td>NaN</td>\n",
       "      <td>NaN</td>\n",
       "      <td>61000.0</td>\n",
       "      <td>NaN</td>\n",
       "      <td>55000.0</td>\n",
       "      <td>70000.0</td>\n",
       "      <td>NaN</td>\n",
       "      <td>55000.0</td>\n",
       "      <td>...</td>\n",
       "      <td>590000.0</td>\n",
       "      <td>2405000.0</td>\n",
       "      <td>712500.0</td>\n",
       "      <td>485000.0</td>\n",
       "      <td>2800000.0</td>\n",
       "      <td>375000.0</td>\n",
       "      <td>790000.0</td>\n",
       "      <td>20000.0</td>\n",
       "      <td>171849.0</td>\n",
       "      <td>NaN</td>\n",
       "    </tr>\n",
       "    <tr>\n",
       "      <th>...</th>\n",
       "      <td>...</td>\n",
       "      <td>...</td>\n",
       "      <td>...</td>\n",
       "      <td>...</td>\n",
       "      <td>...</td>\n",
       "      <td>...</td>\n",
       "      <td>...</td>\n",
       "      <td>...</td>\n",
       "      <td>...</td>\n",
       "      <td>...</td>\n",
       "      <td>...</td>\n",
       "      <td>...</td>\n",
       "      <td>...</td>\n",
       "      <td>...</td>\n",
       "      <td>...</td>\n",
       "      <td>...</td>\n",
       "      <td>...</td>\n",
       "      <td>...</td>\n",
       "      <td>...</td>\n",
       "      <td>...</td>\n",
       "      <td>...</td>\n",
       "    </tr>\n",
       "    <tr>\n",
       "      <th>34751</th>\n",
       "      <td>34752</td>\n",
       "      <td>W01001954</td>\n",
       "      <td>71050.0</td>\n",
       "      <td>82500.0</td>\n",
       "      <td>105000.0</td>\n",
       "      <td>78500.0</td>\n",
       "      <td>90000.0</td>\n",
       "      <td>93500.0</td>\n",
       "      <td>104000.0</td>\n",
       "      <td>105000.0</td>\n",
       "      <td>...</td>\n",
       "      <td>360000.0</td>\n",
       "      <td>348500.0</td>\n",
       "      <td>475000.0</td>\n",
       "      <td>297475.0</td>\n",
       "      <td>350000.0</td>\n",
       "      <td>340000.0</td>\n",
       "      <td>284000.0</td>\n",
       "      <td>285000.0</td>\n",
       "      <td>429950.0</td>\n",
       "      <td>118000.0</td>\n",
       "    </tr>\n",
       "    <tr>\n",
       "      <th>34752</th>\n",
       "      <td>34753</td>\n",
       "      <td>W01001955</td>\n",
       "      <td>30000.0</td>\n",
       "      <td>NaN</td>\n",
       "      <td>250000.0</td>\n",
       "      <td>20000.0</td>\n",
       "      <td>33000.0</td>\n",
       "      <td>NaN</td>\n",
       "      <td>25000.0</td>\n",
       "      <td>NaN</td>\n",
       "      <td>...</td>\n",
       "      <td>96000.0</td>\n",
       "      <td>189500.0</td>\n",
       "      <td>125000.0</td>\n",
       "      <td>127000.0</td>\n",
       "      <td>120000.0</td>\n",
       "      <td>80000.0</td>\n",
       "      <td>802500.0</td>\n",
       "      <td>275000.0</td>\n",
       "      <td>130000.0</td>\n",
       "      <td>60000.0</td>\n",
       "    </tr>\n",
       "    <tr>\n",
       "      <th>34753</th>\n",
       "      <td>34754</td>\n",
       "      <td>W01001956</td>\n",
       "      <td>61225.0</td>\n",
       "      <td>65500.0</td>\n",
       "      <td>56875.0</td>\n",
       "      <td>57750.0</td>\n",
       "      <td>50000.0</td>\n",
       "      <td>49000.0</td>\n",
       "      <td>67000.0</td>\n",
       "      <td>59375.0</td>\n",
       "      <td>...</td>\n",
       "      <td>150000.0</td>\n",
       "      <td>168500.0</td>\n",
       "      <td>217500.0</td>\n",
       "      <td>156000.0</td>\n",
       "      <td>305995.0</td>\n",
       "      <td>291997.5</td>\n",
       "      <td>314995.0</td>\n",
       "      <td>163000.0</td>\n",
       "      <td>202497.5</td>\n",
       "      <td>183500.0</td>\n",
       "    </tr>\n",
       "    <tr>\n",
       "      <th>34754</th>\n",
       "      <td>34755</td>\n",
       "      <td>W01001957</td>\n",
       "      <td>60000.0</td>\n",
       "      <td>42000.0</td>\n",
       "      <td>33500.0</td>\n",
       "      <td>48000.0</td>\n",
       "      <td>38750.0</td>\n",
       "      <td>27500.0</td>\n",
       "      <td>45000.0</td>\n",
       "      <td>51500.0</td>\n",
       "      <td>...</td>\n",
       "      <td>170000.0</td>\n",
       "      <td>136122.5</td>\n",
       "      <td>133000.0</td>\n",
       "      <td>106500.0</td>\n",
       "      <td>130000.0</td>\n",
       "      <td>138000.0</td>\n",
       "      <td>116500.0</td>\n",
       "      <td>127000.0</td>\n",
       "      <td>152500.0</td>\n",
       "      <td>155000.0</td>\n",
       "    </tr>\n",
       "    <tr>\n",
       "      <th>34755</th>\n",
       "      <td>34756</td>\n",
       "      <td>W01001958</td>\n",
       "      <td>NaN</td>\n",
       "      <td>31000.0</td>\n",
       "      <td>76000.0</td>\n",
       "      <td>NaN</td>\n",
       "      <td>NaN</td>\n",
       "      <td>81250.0</td>\n",
       "      <td>23750.0</td>\n",
       "      <td>68225.0</td>\n",
       "      <td>...</td>\n",
       "      <td>173200.0</td>\n",
       "      <td>177750.0</td>\n",
       "      <td>188500.0</td>\n",
       "      <td>173000.0</td>\n",
       "      <td>170000.0</td>\n",
       "      <td>180000.0</td>\n",
       "      <td>158500.0</td>\n",
       "      <td>213600.0</td>\n",
       "      <td>205000.0</td>\n",
       "      <td>174000.0</td>\n",
       "    </tr>\n",
       "  </tbody>\n",
       "</table>\n",
       "<p>34756 rows × 98 columns</p>\n",
       "</div>"
      ],
      "text/plain": [
       "       Unnamed: 0    lsoa_cd  median_95Q1  median_95Q2  median_95Q3  \\\n",
       "0               1        NaN      59000.0      62500.0      55000.0   \n",
       "1               2  E01000001      99500.0     112475.0     123500.0   \n",
       "2               3  E01000002     110000.0     135000.0     112500.0   \n",
       "3               4  E01000003      75000.0      64200.0      66000.0   \n",
       "4               5  E01000005          NaN          NaN      61000.0   \n",
       "...           ...        ...          ...          ...          ...   \n",
       "34751       34752  W01001954      71050.0      82500.0     105000.0   \n",
       "34752       34753  W01001955      30000.0          NaN     250000.0   \n",
       "34753       34754  W01001956      61225.0      65500.0      56875.0   \n",
       "34754       34755  W01001957      60000.0      42000.0      33500.0   \n",
       "34755       34756  W01001958          NaN      31000.0      76000.0   \n",
       "\n",
       "       median_95Q4  median_96Q1  median_96Q2  median_96Q3  median_96Q4  ...  \\\n",
       "0          60000.0      61495.0      50000.0      70500.0      71000.0  ...   \n",
       "1         104671.0     129000.0     129750.0     152500.0     169375.0  ...   \n",
       "2         132000.0     119275.0     112000.0     135000.0     117500.0  ...   \n",
       "3          92000.0      90000.0      65000.0      73000.0      90000.0  ...   \n",
       "4              NaN      55000.0      70000.0          NaN      55000.0  ...   \n",
       "...            ...          ...          ...          ...          ...  ...   \n",
       "34751      78500.0      90000.0      93500.0     104000.0     105000.0  ...   \n",
       "34752      20000.0      33000.0          NaN      25000.0          NaN  ...   \n",
       "34753      57750.0      50000.0      49000.0      67000.0      59375.0  ...   \n",
       "34754      48000.0      38750.0      27500.0      45000.0      51500.0  ...   \n",
       "34755          NaN          NaN      81250.0      23750.0      68225.0  ...   \n",
       "\n",
       "       median_16Q3  median_16Q4  median_17Q1  median_17Q2  median_17Q3  \\\n",
       "0          86415.0      50450.0      66435.0      25091.0      39997.5   \n",
       "1         880000.0     972500.0    1085000.0     872500.0     972500.0   \n",
       "2         852500.0     937500.0     960000.0     970000.0     849950.0   \n",
       "3         795000.0     686250.0     751875.0     760000.0     830000.0   \n",
       "4         590000.0    2405000.0     712500.0     485000.0    2800000.0   \n",
       "...            ...          ...          ...          ...          ...   \n",
       "34751     360000.0     348500.0     475000.0     297475.0     350000.0   \n",
       "34752      96000.0     189500.0     125000.0     127000.0     120000.0   \n",
       "34753     150000.0     168500.0     217500.0     156000.0     305995.0   \n",
       "34754     170000.0     136122.5     133000.0     106500.0     130000.0   \n",
       "34755     173200.0     177750.0     188500.0     173000.0     170000.0   \n",
       "\n",
       "       median_17Q4  median_18Q1  median_18Q2  median_18Q3  median_18Q4  \n",
       "0         108705.0      58000.0      72934.0      60000.0      75950.0  \n",
       "1        2150000.0     900000.0     825000.0     695000.0     806000.0  \n",
       "2         776774.0     720000.0     617500.0     870000.0     997000.0  \n",
       "3         750000.0     702500.0     655250.0     730000.0     683500.0  \n",
       "4         375000.0     790000.0      20000.0     171849.0          NaN  \n",
       "...            ...          ...          ...          ...          ...  \n",
       "34751     340000.0     284000.0     285000.0     429950.0     118000.0  \n",
       "34752      80000.0     802500.0     275000.0     130000.0      60000.0  \n",
       "34753     291997.5     314995.0     163000.0     202497.5     183500.0  \n",
       "34754     138000.0     116500.0     127000.0     152500.0     155000.0  \n",
       "34755     180000.0     158500.0     213600.0     205000.0     174000.0  \n",
       "\n",
       "[34756 rows x 98 columns]"
      ]
     },
     "execution_count": 74,
     "metadata": {},
     "output_type": "execute_result"
    }
   ],
   "source": [
    "house_prices"
   ]
  },
  {
   "cell_type": "code",
   "execution_count": 75,
   "id": "7b439de2-090c-402d-8c71-542a7183d0a2",
   "metadata": {},
   "outputs": [],
   "source": [
    "house_prices = house_prices.rename(columns={\"lsoa_cd\":\"LSOA11CD\"})"
   ]
  },
  {
   "cell_type": "code",
   "execution_count": 76,
   "id": "df8b1d8b-cfcc-4264-9f5d-4660fabf66c4",
   "metadata": {},
   "outputs": [],
   "source": [
    "house_prices = pd.merge(house_prices, lsoa_2011, on=\"LSOA11CD\", how=\"right\")"
   ]
  },
  {
   "cell_type": "markdown",
   "id": "679f9324-5116-49d1-a4de-6eb8e846b19b",
   "metadata": {},
   "source": [
    "2.1 2014"
   ]
  },
  {
   "cell_type": "code",
   "execution_count": 77,
   "id": "e7b7660b-a9bc-43de-9e5d-16e7b74c6abf",
   "metadata": {},
   "outputs": [],
   "source": [
    "# Filter to 2016 \n",
    "\n",
    "house_prices_2014 = house_prices.filter(regex=\"median_14|LSOA11CD\")"
   ]
  },
  {
   "cell_type": "code",
   "execution_count": 78,
   "id": "4fe6dc8b-5723-412d-903d-0ca540103b14",
   "metadata": {},
   "outputs": [
    {
     "name": "stdout",
     "output_type": "stream",
     "text": [
      "There are 902 rows in the dataframe\n",
      "There are 5 columns in the data frame\n",
      "The columns of the dataframe are: Index(['LSOA11CD', 'median_14Q1', 'median_14Q2', 'median_14Q3', 'median_14Q4'], dtype='object')\n",
      "There are 24 NaN values in the data frame\n",
      "These NaN values are located in columns: ['median_14Q1', 'median_14Q2', 'median_14Q3', 'median_14Q4']\n"
     ]
    }
   ],
   "source": [
    "infodf(house_prices_2014)"
   ]
  },
  {
   "cell_type": "code",
   "execution_count": 79,
   "id": "0e55189b-9efa-48b3-a02e-20bd2c59f442",
   "metadata": {},
   "outputs": [
    {
     "name": "stdout",
     "output_type": "stream",
     "text": [
      "Looks like there are just nan values for a quater, not for a whole year. Will get median value to overcome this.\n"
     ]
    }
   ],
   "source": [
    "# Look into nan values\n",
    "\n",
    "nan = house_prices_2014[house_prices_2014.isnull().any(axis=1)]\n",
    "nan\n",
    "print(\"Looks like there are just nan values for a quater, not for a whole year. Will get median value to overcome this.\")"
   ]
  },
  {
   "cell_type": "code",
   "execution_count": 80,
   "id": "9542f686-65c1-4726-bc5b-12cfbdd08f72",
   "metadata": {},
   "outputs": [
    {
     "name": "stderr",
     "output_type": "stream",
     "text": [
      "/opt/conda/envs/sds2021/lib/python3.9/site-packages/pandas/core/frame.py:3607: SettingWithCopyWarning: \n",
      "A value is trying to be set on a copy of a slice from a DataFrame.\n",
      "Try using .loc[row_indexer,col_indexer] = value instead\n",
      "\n",
      "See the caveats in the documentation: https://pandas.pydata.org/pandas-docs/stable/user_guide/indexing.html#returning-a-view-versus-a-copy\n",
      "  self._set_item(key, value)\n"
     ]
    }
   ],
   "source": [
    "house_prices_2014[\"Median_house_prices_2014\"] = house_prices_2014[['median_14Q1', 'median_14Q2', 'median_14Q3', 'median_14Q4']].median(axis=\"columns\")"
   ]
  },
  {
   "cell_type": "code",
   "execution_count": 81,
   "id": "fdf92052-dd2d-442d-853e-7ec350519df0",
   "metadata": {},
   "outputs": [
    {
     "data": {
      "text/html": [
       "<div>\n",
       "<style scoped>\n",
       "    .dataframe tbody tr th:only-of-type {\n",
       "        vertical-align: middle;\n",
       "    }\n",
       "\n",
       "    .dataframe tbody tr th {\n",
       "        vertical-align: top;\n",
       "    }\n",
       "\n",
       "    .dataframe thead th {\n",
       "        text-align: right;\n",
       "    }\n",
       "</style>\n",
       "<table border=\"1\" class=\"dataframe\">\n",
       "  <thead>\n",
       "    <tr style=\"text-align: right;\">\n",
       "      <th></th>\n",
       "      <th>LSOA11CD</th>\n",
       "      <th>median_14Q1</th>\n",
       "      <th>median_14Q2</th>\n",
       "      <th>median_14Q3</th>\n",
       "      <th>median_14Q4</th>\n",
       "      <th>Median_house_prices_2014</th>\n",
       "    </tr>\n",
       "  </thead>\n",
       "  <tbody>\n",
       "    <tr>\n",
       "      <th>68</th>\n",
       "      <td>E01024047</td>\n",
       "      <td>NaN</td>\n",
       "      <td>180200.0</td>\n",
       "      <td>163750.0</td>\n",
       "      <td>NaN</td>\n",
       "      <td>171975.0</td>\n",
       "    </tr>\n",
       "    <tr>\n",
       "      <th>70</th>\n",
       "      <td>E01024049</td>\n",
       "      <td>NaN</td>\n",
       "      <td>179500.0</td>\n",
       "      <td>205000.0</td>\n",
       "      <td>203275.0</td>\n",
       "      <td>203275.0</td>\n",
       "    </tr>\n",
       "    <tr>\n",
       "      <th>111</th>\n",
       "      <td>E01024092</td>\n",
       "      <td>NaN</td>\n",
       "      <td>202250.0</td>\n",
       "      <td>225000.0</td>\n",
       "      <td>151500.0</td>\n",
       "      <td>202250.0</td>\n",
       "    </tr>\n",
       "    <tr>\n",
       "      <th>129</th>\n",
       "      <td>E01024110</td>\n",
       "      <td>NaN</td>\n",
       "      <td>182500.0</td>\n",
       "      <td>215000.0</td>\n",
       "      <td>304166.5</td>\n",
       "      <td>215000.0</td>\n",
       "    </tr>\n",
       "    <tr>\n",
       "      <th>183</th>\n",
       "      <td>E01024165</td>\n",
       "      <td>186500.0</td>\n",
       "      <td>NaN</td>\n",
       "      <td>154500.0</td>\n",
       "      <td>195000.0</td>\n",
       "      <td>186500.0</td>\n",
       "    </tr>\n",
       "    <tr>\n",
       "      <th>195</th>\n",
       "      <td>E01024177</td>\n",
       "      <td>132500.0</td>\n",
       "      <td>NaN</td>\n",
       "      <td>177000.0</td>\n",
       "      <td>225500.0</td>\n",
       "      <td>177000.0</td>\n",
       "    </tr>\n",
       "    <tr>\n",
       "      <th>206</th>\n",
       "      <td>E01024188</td>\n",
       "      <td>NaN</td>\n",
       "      <td>357000.0</td>\n",
       "      <td>294000.0</td>\n",
       "      <td>275000.0</td>\n",
       "      <td>294000.0</td>\n",
       "    </tr>\n",
       "    <tr>\n",
       "      <th>210</th>\n",
       "      <td>E01024192</td>\n",
       "      <td>162500.0</td>\n",
       "      <td>122000.0</td>\n",
       "      <td>147500.0</td>\n",
       "      <td>NaN</td>\n",
       "      <td>147500.0</td>\n",
       "    </tr>\n",
       "    <tr>\n",
       "      <th>214</th>\n",
       "      <td>E01024196</td>\n",
       "      <td>214750.0</td>\n",
       "      <td>143000.0</td>\n",
       "      <td>NaN</td>\n",
       "      <td>145000.0</td>\n",
       "      <td>145000.0</td>\n",
       "    </tr>\n",
       "    <tr>\n",
       "      <th>279</th>\n",
       "      <td>E01024264</td>\n",
       "      <td>NaN</td>\n",
       "      <td>159250.0</td>\n",
       "      <td>165000.0</td>\n",
       "      <td>225000.0</td>\n",
       "      <td>165000.0</td>\n",
       "    </tr>\n",
       "    <tr>\n",
       "      <th>313</th>\n",
       "      <td>E01024299</td>\n",
       "      <td>223000.0</td>\n",
       "      <td>NaN</td>\n",
       "      <td>212500.0</td>\n",
       "      <td>222500.0</td>\n",
       "      <td>222500.0</td>\n",
       "    </tr>\n",
       "    <tr>\n",
       "      <th>320</th>\n",
       "      <td>E01024306</td>\n",
       "      <td>173000.0</td>\n",
       "      <td>NaN</td>\n",
       "      <td>250000.0</td>\n",
       "      <td>190000.0</td>\n",
       "      <td>190000.0</td>\n",
       "    </tr>\n",
       "    <tr>\n",
       "      <th>323</th>\n",
       "      <td>E01024309</td>\n",
       "      <td>162000.0</td>\n",
       "      <td>NaN</td>\n",
       "      <td>187497.5</td>\n",
       "      <td>195000.0</td>\n",
       "      <td>187497.5</td>\n",
       "    </tr>\n",
       "    <tr>\n",
       "      <th>437</th>\n",
       "      <td>E01024427</td>\n",
       "      <td>176000.0</td>\n",
       "      <td>NaN</td>\n",
       "      <td>212500.0</td>\n",
       "      <td>213075.0</td>\n",
       "      <td>212500.0</td>\n",
       "    </tr>\n",
       "    <tr>\n",
       "      <th>457</th>\n",
       "      <td>E01024447</td>\n",
       "      <td>234997.5</td>\n",
       "      <td>NaN</td>\n",
       "      <td>240000.0</td>\n",
       "      <td>255000.0</td>\n",
       "      <td>240000.0</td>\n",
       "    </tr>\n",
       "    <tr>\n",
       "      <th>494</th>\n",
       "      <td>E01024484</td>\n",
       "      <td>NaN</td>\n",
       "      <td>355250.0</td>\n",
       "      <td>740000.0</td>\n",
       "      <td>1150000.0</td>\n",
       "      <td>740000.0</td>\n",
       "    </tr>\n",
       "    <tr>\n",
       "      <th>620</th>\n",
       "      <td>E01024614</td>\n",
       "      <td>136880.0</td>\n",
       "      <td>NaN</td>\n",
       "      <td>161750.0</td>\n",
       "      <td>137000.0</td>\n",
       "      <td>137000.0</td>\n",
       "    </tr>\n",
       "    <tr>\n",
       "      <th>626</th>\n",
       "      <td>E01024621</td>\n",
       "      <td>NaN</td>\n",
       "      <td>148000.0</td>\n",
       "      <td>NaN</td>\n",
       "      <td>165000.0</td>\n",
       "      <td>156500.0</td>\n",
       "    </tr>\n",
       "    <tr>\n",
       "      <th>723</th>\n",
       "      <td>E01024718</td>\n",
       "      <td>389000.0</td>\n",
       "      <td>266000.0</td>\n",
       "      <td>NaN</td>\n",
       "      <td>410000.0</td>\n",
       "      <td>389000.0</td>\n",
       "    </tr>\n",
       "    <tr>\n",
       "      <th>752</th>\n",
       "      <td>E01024749</td>\n",
       "      <td>NaN</td>\n",
       "      <td>297500.0</td>\n",
       "      <td>278000.0</td>\n",
       "      <td>242000.0</td>\n",
       "      <td>278000.0</td>\n",
       "    </tr>\n",
       "    <tr>\n",
       "      <th>761</th>\n",
       "      <td>E01024758</td>\n",
       "      <td>267475.0</td>\n",
       "      <td>316495.0</td>\n",
       "      <td>313997.5</td>\n",
       "      <td>NaN</td>\n",
       "      <td>313997.5</td>\n",
       "    </tr>\n",
       "    <tr>\n",
       "      <th>809</th>\n",
       "      <td>E01024809</td>\n",
       "      <td>NaN</td>\n",
       "      <td>348500.0</td>\n",
       "      <td>375000.0</td>\n",
       "      <td>360000.0</td>\n",
       "      <td>360000.0</td>\n",
       "    </tr>\n",
       "  </tbody>\n",
       "</table>\n",
       "</div>"
      ],
      "text/plain": [
       "      LSOA11CD  median_14Q1  median_14Q2  median_14Q3  median_14Q4  \\\n",
       "68   E01024047          NaN     180200.0     163750.0          NaN   \n",
       "70   E01024049          NaN     179500.0     205000.0     203275.0   \n",
       "111  E01024092          NaN     202250.0     225000.0     151500.0   \n",
       "129  E01024110          NaN     182500.0     215000.0     304166.5   \n",
       "183  E01024165     186500.0          NaN     154500.0     195000.0   \n",
       "195  E01024177     132500.0          NaN     177000.0     225500.0   \n",
       "206  E01024188          NaN     357000.0     294000.0     275000.0   \n",
       "210  E01024192     162500.0     122000.0     147500.0          NaN   \n",
       "214  E01024196     214750.0     143000.0          NaN     145000.0   \n",
       "279  E01024264          NaN     159250.0     165000.0     225000.0   \n",
       "313  E01024299     223000.0          NaN     212500.0     222500.0   \n",
       "320  E01024306     173000.0          NaN     250000.0     190000.0   \n",
       "323  E01024309     162000.0          NaN     187497.5     195000.0   \n",
       "437  E01024427     176000.0          NaN     212500.0     213075.0   \n",
       "457  E01024447     234997.5          NaN     240000.0     255000.0   \n",
       "494  E01024484          NaN     355250.0     740000.0    1150000.0   \n",
       "620  E01024614     136880.0          NaN     161750.0     137000.0   \n",
       "626  E01024621          NaN     148000.0          NaN     165000.0   \n",
       "723  E01024718     389000.0     266000.0          NaN     410000.0   \n",
       "752  E01024749          NaN     297500.0     278000.0     242000.0   \n",
       "761  E01024758     267475.0     316495.0     313997.5          NaN   \n",
       "809  E01024809          NaN     348500.0     375000.0     360000.0   \n",
       "\n",
       "     Median_house_prices_2014  \n",
       "68                   171975.0  \n",
       "70                   203275.0  \n",
       "111                  202250.0  \n",
       "129                  215000.0  \n",
       "183                  186500.0  \n",
       "195                  177000.0  \n",
       "206                  294000.0  \n",
       "210                  147500.0  \n",
       "214                  145000.0  \n",
       "279                  165000.0  \n",
       "313                  222500.0  \n",
       "320                  190000.0  \n",
       "323                  187497.5  \n",
       "437                  212500.0  \n",
       "457                  240000.0  \n",
       "494                  740000.0  \n",
       "620                  137000.0  \n",
       "626                  156500.0  \n",
       "723                  389000.0  \n",
       "752                  278000.0  \n",
       "761                  313997.5  \n",
       "809                  360000.0  "
      ]
     },
     "execution_count": 81,
     "metadata": {},
     "output_type": "execute_result"
    }
   ],
   "source": [
    "nan = house_prices_2014[house_prices_2014.isnull().any(axis=1)]\n",
    "nan"
   ]
  },
  {
   "cell_type": "code",
   "execution_count": 82,
   "id": "e7e09f0a-8f1b-49cc-86fc-0124ed297c59",
   "metadata": {},
   "outputs": [],
   "source": [
    "house_prices_2014 = house_prices_2014[[\"LSOA11CD\", \"Median_house_prices_2014\"]]"
   ]
  },
  {
   "cell_type": "markdown",
   "id": "c91ef2ad-558c-43b0-a1ef-22f7b09f8af1",
   "metadata": {},
   "source": [
    "2.2 2018"
   ]
  },
  {
   "cell_type": "code",
   "execution_count": 83,
   "id": "31c16dc0-e358-40f2-9587-1e7bc8b6e0eb",
   "metadata": {},
   "outputs": [],
   "source": [
    "house_prices_2018 = house_prices.filter(regex=\"median_18|LSOA11CD\")"
   ]
  },
  {
   "cell_type": "code",
   "execution_count": 84,
   "id": "171eb81d-b7ba-4c0d-9a10-8d1f6e478510",
   "metadata": {},
   "outputs": [
    {
     "name": "stdout",
     "output_type": "stream",
     "text": [
      "There are 902 rows in the dataframe\n",
      "There are 5 columns in the data frame\n",
      "The columns of the dataframe are: Index(['LSOA11CD', 'median_18Q1', 'median_18Q2', 'median_18Q3', 'median_18Q4'], dtype='object')\n",
      "There are 23 NaN values in the data frame\n",
      "These NaN values are located in columns: ['median_18Q1', 'median_18Q2', 'median_18Q3', 'median_18Q4']\n"
     ]
    }
   ],
   "source": [
    "infodf(house_prices_2018)"
   ]
  },
  {
   "cell_type": "code",
   "execution_count": 85,
   "id": "0840b949-c115-417a-bb43-7fb3e85ba819",
   "metadata": {},
   "outputs": [
    {
     "name": "stderr",
     "output_type": "stream",
     "text": [
      "/opt/conda/envs/sds2021/lib/python3.9/site-packages/pandas/core/frame.py:3607: SettingWithCopyWarning: \n",
      "A value is trying to be set on a copy of a slice from a DataFrame.\n",
      "Try using .loc[row_indexer,col_indexer] = value instead\n",
      "\n",
      "See the caveats in the documentation: https://pandas.pydata.org/pandas-docs/stable/user_guide/indexing.html#returning-a-view-versus-a-copy\n",
      "  self._set_item(key, value)\n"
     ]
    }
   ],
   "source": [
    "house_prices_2018[\"Median_house_prices_2018\"] = house_prices_2018[['median_18Q1', 'median_18Q2', 'median_18Q3', 'median_18Q4']].median(axis=\"columns\")"
   ]
  },
  {
   "cell_type": "code",
   "execution_count": 86,
   "id": "98ef5b03-bc81-4fbb-a1b7-9aed16307f7e",
   "metadata": {},
   "outputs": [],
   "source": [
    "house_prices_2018 = house_prices_2018[[\"LSOA11CD\", \"Median_house_prices_2018\"]]"
   ]
  },
  {
   "cell_type": "code",
   "execution_count": 87,
   "id": "ed421e5c-e422-40a7-bd42-3311d6e98ac2",
   "metadata": {},
   "outputs": [
    {
     "data": {
      "text/html": [
       "<div>\n",
       "<style scoped>\n",
       "    .dataframe tbody tr th:only-of-type {\n",
       "        vertical-align: middle;\n",
       "    }\n",
       "\n",
       "    .dataframe tbody tr th {\n",
       "        vertical-align: top;\n",
       "    }\n",
       "\n",
       "    .dataframe thead th {\n",
       "        text-align: right;\n",
       "    }\n",
       "</style>\n",
       "<table border=\"1\" class=\"dataframe\">\n",
       "  <thead>\n",
       "    <tr style=\"text-align: right;\">\n",
       "      <th></th>\n",
       "      <th>LSOA11CD</th>\n",
       "      <th>Median_house_prices_2018</th>\n",
       "    </tr>\n",
       "  </thead>\n",
       "  <tbody>\n",
       "    <tr>\n",
       "      <th>0</th>\n",
       "      <td>E01023972</td>\n",
       "      <td>232500.00</td>\n",
       "    </tr>\n",
       "    <tr>\n",
       "      <th>1</th>\n",
       "      <td>E01023973</td>\n",
       "      <td>203000.00</td>\n",
       "    </tr>\n",
       "    <tr>\n",
       "      <th>2</th>\n",
       "      <td>E01023974</td>\n",
       "      <td>210000.00</td>\n",
       "    </tr>\n",
       "    <tr>\n",
       "      <th>3</th>\n",
       "      <td>E01023975</td>\n",
       "      <td>224375.00</td>\n",
       "    </tr>\n",
       "    <tr>\n",
       "      <th>4</th>\n",
       "      <td>E01023976</td>\n",
       "      <td>232500.00</td>\n",
       "    </tr>\n",
       "    <tr>\n",
       "      <th>...</th>\n",
       "      <td>...</td>\n",
       "      <td>...</td>\n",
       "    </tr>\n",
       "    <tr>\n",
       "      <th>897</th>\n",
       "      <td>E01033211</td>\n",
       "      <td>148121.25</td>\n",
       "    </tr>\n",
       "    <tr>\n",
       "      <th>898</th>\n",
       "      <td>E01033212</td>\n",
       "      <td>154748.75</td>\n",
       "    </tr>\n",
       "    <tr>\n",
       "      <th>899</th>\n",
       "      <td>E01033213</td>\n",
       "      <td>192500.00</td>\n",
       "    </tr>\n",
       "    <tr>\n",
       "      <th>900</th>\n",
       "      <td>E01033214</td>\n",
       "      <td>345997.50</td>\n",
       "    </tr>\n",
       "    <tr>\n",
       "      <th>901</th>\n",
       "      <td>E01033215</td>\n",
       "      <td>86500.00</td>\n",
       "    </tr>\n",
       "  </tbody>\n",
       "</table>\n",
       "<p>902 rows × 2 columns</p>\n",
       "</div>"
      ],
      "text/plain": [
       "      LSOA11CD  Median_house_prices_2018\n",
       "0    E01023972                 232500.00\n",
       "1    E01023973                 203000.00\n",
       "2    E01023974                 210000.00\n",
       "3    E01023975                 224375.00\n",
       "4    E01023976                 232500.00\n",
       "..         ...                       ...\n",
       "897  E01033211                 148121.25\n",
       "898  E01033212                 154748.75\n",
       "899  E01033213                 192500.00\n",
       "900  E01033214                 345997.50\n",
       "901  E01033215                  86500.00\n",
       "\n",
       "[902 rows x 2 columns]"
      ]
     },
     "execution_count": 87,
     "metadata": {},
     "output_type": "execute_result"
    }
   ],
   "source": [
    "house_prices_2018"
   ]
  },
  {
   "cell_type": "code",
   "execution_count": 88,
   "id": "6f8ef4d2-98e5-405b-8b04-cd7f04263247",
   "metadata": {},
   "outputs": [],
   "source": [
    "# Final df\n",
    "\n",
    "house_prices = pd.merge(house_prices_2014, house_prices_2018, on=\"LSOA11CD\", how=\"inner\")"
   ]
  },
  {
   "cell_type": "code",
   "execution_count": 89,
   "id": "4a8f0d3b-3e23-4ddb-a608-a0f36b2355a1",
   "metadata": {},
   "outputs": [
    {
     "name": "stdout",
     "output_type": "stream",
     "text": [
      "There are 902 rows in the dataframe\n",
      "There are 3 columns in the data frame\n",
      "The columns of the dataframe are: Index(['LSOA11CD', 'Median_house_prices_2014', 'Median_house_prices_2018'], dtype='object')\n",
      "There are 0 NaN values in the data frame\n",
      "These NaN values are located in columns: []\n"
     ]
    }
   ],
   "source": [
    "infodf(house_prices)"
   ]
  },
  {
   "cell_type": "markdown",
   "id": "18710325-403a-4bac-bdf1-9f7dfa2d269a",
   "metadata": {},
   "source": [
    "# 3. POI\n",
    "\n",
    "3.1 2014"
   ]
  },
  {
   "cell_type": "code",
   "execution_count": 90,
   "id": "79b1f076-88b7-43cd-9f07-ab3cf29ced60",
   "metadata": {},
   "outputs": [],
   "source": [
    "# Read in \n",
    "\n",
    "poi_2014 = pd.read_csv(os.path.join(nc, \"poi_2014_cleaned.csv\"))"
   ]
  },
  {
   "cell_type": "code",
   "execution_count": 91,
   "id": "9e85fbb2-a70a-469d-9b3c-5adcd2ea3f48",
   "metadata": {},
   "outputs": [],
   "source": [
    "# Drop column\n",
    "\n",
    "poi_2014 = poi_2014.drop(\"Unnamed: 0\", axis=1)"
   ]
  },
  {
   "cell_type": "code",
   "execution_count": 92,
   "id": "b5d2ba91-b2d6-424b-aed8-f1f8c7cfb1b5",
   "metadata": {},
   "outputs": [],
   "source": [
    "# Strip suffix\n",
    "\n",
    "poi_2014.columns = poi_2014.columns.str.rstrip('_2014')\n",
    "\n",
    "# Make lowercase\n",
    "\n",
    "poi_2014.columns = map(str.lower, poi_2014.columns)"
   ]
  },
  {
   "cell_type": "markdown",
   "id": "0f5cd48b-5b17-4393-9707-ed7ffd508b66",
   "metadata": {},
   "source": [
    "3.2 2018"
   ]
  },
  {
   "cell_type": "code",
   "execution_count": 93,
   "id": "62481855-6b0c-41df-9685-7eb1f872ae55",
   "metadata": {},
   "outputs": [],
   "source": [
    "poi_2018 = pd.read_csv(os.path.join(nc, \"poi_2018_cleaned.csv\"))"
   ]
  },
  {
   "cell_type": "code",
   "execution_count": 94,
   "id": "72c94771-3ea9-4a74-b791-9fa5a0af4b48",
   "metadata": {},
   "outputs": [],
   "source": [
    "# Drop column\n",
    "\n",
    "poi_2018 = poi_2018.drop(\"Unnamed: 0\", axis=1)"
   ]
  },
  {
   "cell_type": "code",
   "execution_count": 95,
   "id": "b45187cc-fbde-4df7-9865-784a65a6e6e6",
   "metadata": {},
   "outputs": [],
   "source": [
    "# Strip suffix\n",
    "\n",
    "poi_2018.columns = poi_2018.columns.str.rstrip('_2018')\n",
    "\n",
    "# Make lowercase\n",
    "\n",
    "poi_2018.columns = map(str.lower, poi_2018.columns)"
   ]
  },
  {
   "cell_type": "markdown",
   "id": "68346d93-f17a-4509-a5cb-ac891c1f5cb2",
   "metadata": {},
   "source": [
    "3.3 Create Higher Tertiary"
   ]
  },
  {
   "cell_type": "code",
   "execution_count": 96,
   "id": "0ff5b5c4-9294-4c03-a97b-f1b4c3df1882",
   "metadata": {},
   "outputs": [],
   "source": [
    "# Filter\n",
    "\n",
    "higher_tert = [\"lsoa11cd\",\"architectural_and_building_related_consultants\",\n",
    "\"image_consultants\",\n",
    "\"business_related_consultants\",\n",
    "\"interpretation_and_translation_consultants\",\n",
    "\"computer_consultants\",\n",
    "\"security_consultants\",\n",
    "\"construction_service_consultants\",\n",
    "\"telecommunications_consultants\",\n",
    "\"traffic_management_and_transport_related_consultants\",\n",
    "\"food_consultants\",\n",
    "\"aviation_engineers\",\n",
    "\"instrumentation_engineers\",\n",
    "\"chemical_engineers\",\n",
    "\"marine_engineers_and_services\",\n",
    "\"civil_engineers\",\n",
    "\"mechanical_engineers\",\n",
    "\"electrical_and_electronic_engineers\",\n",
    "\"pneumatic_engineers\",\n",
    "\"hydraulic_engineers\",\n",
    "\"precision_engineers\",\n",
    "\"industrial_engineers\",\n",
    "\"structural_engineers\",\n",
    "\"agricultural_contractors\",\n",
    "\"advertising_services\",\n",
    "\"internet_services\",\n",
    "\"literary_services\",\n",
    "\"computer_security\",\n",
    "\"computer_systems_services\",\n",
    "\"marketing_services\",\n",
    "\"database_services\",\n",
    "\"press_and_journalism_services\",\n",
    "\"accountants_and_auditors\",\n",
    "\"copyright_and_patent\",\n",
    "\"stocks,_shares_and_unit_trusts\",\n",
    "\"financial_advice_services\",\n",
    "\"headquarters,_administration_and_central_offices\"]\n",
    "\n",
    "filt = [\"Financial_Advice_Services\"]"
   ]
  },
  {
   "cell_type": "code",
   "execution_count": 97,
   "id": "4c8e0c5a-f110-4f9c-92d9-d26d259af999",
   "metadata": {},
   "outputs": [],
   "source": [
    "# Apply filter\n",
    "\n",
    "poi_2014_higher_tert = poi_2014.filter(items=higher_tert)\n",
    "poi_2018_higher_tert = poi_2018.filter(items=higher_tert)"
   ]
  },
  {
   "cell_type": "code",
   "execution_count": 98,
   "id": "21ceffe9-804b-4887-8bb3-33b872fdb05d",
   "metadata": {},
   "outputs": [
    {
     "name": "stdout",
     "output_type": "stream",
     "text": [
      "There are 1 POI categories missing for 2014\n",
      "There are 2 POI categories missing for 2018\n"
     ]
    }
   ],
   "source": [
    "# Check \n",
    "\n",
    "if len(higher_tert) == len(poi_2014_higher_tert.columns):\n",
    "    print(\"All POI categories are there\")\n",
    "else:\n",
    "    x = len(higher_tert) - len(poi_2014_higher_tert.columns) \n",
    "    print(\"There are \" + str(x) + \" POI categories missing for 2014\")\n",
    "\n",
    "    \n",
    "if len(higher_tert) == len(poi_2018_higher_tert.columns):\n",
    "    print(\"All POI categories are there\")\n",
    "else:\n",
    "    x = len(higher_tert) - len(poi_2018_higher_tert.columns) \n",
    "    print(\"There are \" + str(x) + \" POI categories missing for 2018\")\n"
   ]
  },
  {
   "cell_type": "code",
   "execution_count": 99,
   "id": "59b5eca2-9226-4b2c-89ea-a05a783a2f9e",
   "metadata": {},
   "outputs": [
    {
     "name": "stdout",
     "output_type": "stream",
     "text": [
      "Differences between two lists: \n",
      "{'computer_security'}\n"
     ]
    }
   ],
   "source": [
    "# Look at 2014 first\n",
    "\n",
    "collist = poi_2014_higher_tert.columns.to_list()\n",
    "\n",
    "# Convert lists to sets\n",
    "first_set = set(collist)\n",
    "sec_set = set(higher_tert)\n",
    "# Get the differences between two sets\n",
    "differences = (first_set - sec_set).union(sec_set - first_set)\n",
    "print('Differences between two lists: ')\n",
    "print(differences)"
   ]
  },
  {
   "cell_type": "code",
   "execution_count": 100,
   "id": "50d52b95-4306-49fe-92f8-18c66936ff5e",
   "metadata": {},
   "outputs": [
    {
     "name": "stdout",
     "output_type": "stream",
     "text": [
      "Differences between two lists: \n",
      "{'chemical_engineers', 'pneumatic_engineers'}\n"
     ]
    }
   ],
   "source": [
    "# Look at 2018\n",
    "\n",
    "collist = poi_2018_higher_tert.columns.to_list()\n",
    "\n",
    "# Convert lists to sets\n",
    "first_set = set(collist)\n",
    "sec_set = set(higher_tert)\n",
    "# Get the differences between two sets\n",
    "differences = (first_set - sec_set).union(sec_set - first_set)\n",
    "print('Differences between two lists: ')\n",
    "print(differences)"
   ]
  },
  {
   "cell_type": "code",
   "execution_count": 101,
   "id": "66a4bd5d-1463-4480-8ff9-f0e2696e643f",
   "metadata": {},
   "outputs": [],
   "source": [
    "# Make spatial \n",
    "\n",
    "poi_2014_higher_tert_gdf = pd.merge(lsoa_2011, poi_2014_higher_tert, how=\"right\", right_on=\"lsoa11cd\", left_on=\"LSOA11CD\")\n",
    "poi_2014_higher_tert_gdf = gpd.GeoDataFrame(poi_2014_higher_tert_gdf, geometry = \"geometry\", crs=lsoa_2011.crs.to_string())\n",
    "\n",
    "poi_2018_higher_tert_gdf = pd.merge(lsoa_2011, poi_2018_higher_tert, how=\"right\", right_on=\"lsoa11cd\", left_on=\"LSOA11CD\")\n",
    "poi_2018_higher_tert_gdf = gpd.GeoDataFrame(poi_2018_higher_tert_gdf, geometry = \"geometry\", crs=lsoa_2011.crs.to_string())"
   ]
  },
  {
   "cell_type": "code",
   "execution_count": 102,
   "id": "6d9d7b36-d84f-49d6-8ce8-1e49249894c2",
   "metadata": {},
   "outputs": [
    {
     "name": "stdout",
     "output_type": "stream",
     "text": [
      "Differences between two lists: \n",
      "{'computer_security', 'chemical_engineers', 'pneumatic_engineers'}\n"
     ]
    }
   ],
   "source": [
    "# Check difference between columns\n",
    "\n",
    "collist = poi_2014_higher_tert_gdf.columns.to_list()\n",
    "collist2 = poi_2018_higher_tert_gdf.columns.to_list()\n",
    "\n",
    "# Convert lists to sets\n",
    "first_set = set(collist)\n",
    "sec_set = set(collist2)\n",
    "# Get the differences between two sets\n",
    "differences = (first_set - sec_set).union(sec_set - first_set)\n",
    "print('Differences between two lists: ')\n",
    "print(differences)"
   ]
  },
  {
   "cell_type": "markdown",
   "id": "4c7914b7-6f73-440f-8549-4f28a2939343",
   "metadata": {},
   "source": [
    "These must just have no counts for those years."
   ]
  },
  {
   "cell_type": "code",
   "execution_count": 103,
   "id": "5999a5cc-7067-4e30-9d72-1431289f0c7d",
   "metadata": {},
   "outputs": [],
   "source": [
    "# Remove missing rows \n",
    "\n",
    "poi_2014_higher_tert_gdf = poi_2014_higher_tert_gdf.drop(['chemical_engineers', \"pneumatic_engineers\"], axis=1)\n",
    "poi_2018_higher_tert_gdf = poi_2018_higher_tert_gdf.drop(['computer_security'], axis=1)"
   ]
  },
  {
   "cell_type": "code",
   "execution_count": 104,
   "id": "cfaeef36-667a-4800-a4a6-c35796c9caea",
   "metadata": {},
   "outputs": [
    {
     "name": "stdout",
     "output_type": "stream",
     "text": [
      "Differences between two lists: \n",
      "set()\n"
     ]
    }
   ],
   "source": [
    "# Check difference between rows\n",
    "\n",
    "collist = poi_2014_higher_tert_gdf[\"LSOA11CD\"].to_list()\n",
    "collist2 = poi_2018_higher_tert_gdf[\"LSOA11CD\"].to_list()\n",
    "\n",
    "# Convert lists to sets\n",
    "first_set = set(collist)\n",
    "sec_set = set(collist2)\n",
    "# Get the differences between two sets\n",
    "differences = (first_set - sec_set).union(sec_set - first_set)\n",
    "print('Differences between two lists: ')\n",
    "print(differences)"
   ]
  },
  {
   "cell_type": "code",
   "execution_count": 105,
   "id": "061d1bd8-2131-49ad-99fe-d7c7eb31fe2b",
   "metadata": {},
   "outputs": [],
   "source": [
    "# After looking on QGIS missing LSOA is just a clipping error\n",
    "\n",
    "#missing_lsoa = poi_2018_higher_tert_gdf[poi_2018_higher_tert_gdf[\"LSOA11CD\"] == 'E01000748']\n",
    "poi_2018_higher_tert_gdf = poi_2018_higher_tert_gdf.set_index(\"LSOA11CD\")\n",
    "#poi_2018_higher_tert_gdf = poi_2018_higher_tert_gdf.drop([\"E01000748\"])\n",
    "poi_2018_higher_tert_gdf = poi_2018_higher_tert_gdf.reset_index()\n"
   ]
  },
  {
   "cell_type": "code",
   "execution_count": 106,
   "id": "27b0daab-1b9d-4655-b99a-089f461e3997",
   "metadata": {},
   "outputs": [
    {
     "name": "stdout",
     "output_type": "stream",
     "text": [
      "Differences between two lists: \n",
      "set()\n"
     ]
    }
   ],
   "source": [
    "# Check difference between rows again\n",
    "\n",
    "collist = poi_2014_higher_tert_gdf[\"LSOA11CD\"].to_list()\n",
    "collist2 = poi_2018_higher_tert_gdf[\"LSOA11CD\"].to_list()\n",
    "\n",
    "# Convert lists to sets\n",
    "first_set = set(collist)\n",
    "sec_set = set(collist2)\n",
    "# Get the differences between two sets\n",
    "differences = (first_set - sec_set).union(sec_set - first_set)\n",
    "print('Differences between two lists: ')\n",
    "print(differences)"
   ]
  },
  {
   "cell_type": "code",
   "execution_count": 107,
   "id": "698b4447-4584-4600-8e43-97f54b808f12",
   "metadata": {},
   "outputs": [
    {
     "name": "stderr",
     "output_type": "stream",
     "text": [
      "/tmp/ipykernel_2202/4095699642.py:3: FutureWarning: Dropping of nuisance columns in DataFrame reductions (with 'numeric_only=None') is deprecated; in a future version this will raise TypeError.  Select only valid columns before calling the reduction.\n",
      "  poi_2014_higher_tert_gdf[\"count\"] = poi_2014_higher_tert_gdf.iloc[:, 1:].sum(axis = 1)\n",
      "/tmp/ipykernel_2202/4095699642.py:6: FutureWarning: Dropping of nuisance columns in DataFrame reductions (with 'numeric_only=None') is deprecated; in a future version this will raise TypeError.  Select only valid columns before calling the reduction.\n",
      "  poi_2018_higher_tert_gdf[\"count\"] = poi_2018_higher_tert_gdf.iloc[:, 1:].sum(axis = 1)\n"
     ]
    }
   ],
   "source": [
    "# Calculate count of higher tertiary \n",
    "\n",
    "poi_2014_higher_tert_gdf[\"count\"] = poi_2014_higher_tert_gdf.iloc[:, 1:].sum(axis = 1)\n",
    "\n",
    "\n",
    "poi_2018_higher_tert_gdf[\"count\"] = poi_2018_higher_tert_gdf.iloc[:, 1:].sum(axis = 1)\n"
   ]
  },
  {
   "cell_type": "code",
   "execution_count": 108,
   "id": "fbf7d61e-25b3-45ad-a0af-ef86baa78ca0",
   "metadata": {},
   "outputs": [],
   "source": [
    "outline = gpd.read_file(os.path.join(shapefiles, \"KENT_OUTLINE.shp\"))"
   ]
  },
  {
   "cell_type": "code",
   "execution_count": 109,
   "id": "7422d0c3-e71f-4236-b33e-eb824865d3ca",
   "metadata": {},
   "outputs": [
    {
     "data": {
      "image/png": "[encoded data removed]",
      "text/plain": [
       "<Figure size 1440x1440 with 4 Axes>"
      ]
     },
     "metadata": {
      "needs_background": "light"
     },
     "output_type": "display_data"
    }
   ],
   "source": [
    "import matplotlib.colors as mcolors\n",
    "\n",
    "# Set axes\n",
    "fig, (ax1, ax2) = plt.subplots(1, 2, figsize=(20,20))\n",
    "ax1.set_aspect('equal')\n",
    "ax1.axis('off')\n",
    "\n",
    "ax2.set_aspect('equal')\n",
    "ax2.axis('off')\n",
    "\n",
    "# Plot outlines of LSOA'S \n",
    "lsoa_2011.plot(ax=ax1, edgecolor=\"white\", facecolor=\"None\", alpha=0.8, zorder=10, linewidth=0.1)\n",
    "lsoa_2011.plot(ax=ax2, edgecolor=\"white\", facecolor=\"None\", alpha=0.8, zorder=10, linewidth=0.1)\n",
    "\n",
    "# Plot outline of Kent\n",
    "outline.plot(ax=ax1, edgecolor=\"#2c3e50\", facecolor=\"None\", alpha=0.8, zorder=10, linewidth=0.1)\n",
    "outline.plot(ax=ax2, edgecolor=\"#2c3e50\", facecolor=\"None\", alpha=0.8, zorder=10, linewidth=0.1)\n",
    "\n",
    "# Add basemap\n",
    "#ctx.add_basemap(ax, crs=kent_2011.crs.to_string(), source=ctx.providers.CartoDB.Positron)\n",
    "\n",
    "# Add scale bar\n",
    "# Points on the sane lattitude, one longitude apart\n",
    "points = gpd.GeoSeries([Point(51.5072, 0.1276), Point(52.5072, 0.1276)], crs=4326)\n",
    "# Calculate difference\n",
    "distance_meters = points[0].distance(points[1])\n",
    "# Plot\n",
    "ax1.add_artist(ScaleBar(distance_meters, color=\"dimgray\", location=\"lower right\")) \n",
    "ax2.add_artist(ScaleBar(distance_meters, color=\"dimgray\", location=\"lower right\")) \n",
    "\n",
    "# Add north arrow\n",
    "\n",
    "ax1.text(x=620000, y=113000,s='N', fontsize=20, color=\"dimgray\")\n",
    "ax2.text(x=620000, y=113000,s='N', fontsize=20, color=\"dimgray\")\n",
    "\n",
    "ax1.arrow(619000, 113000, 0, 1000, length_includes_head=True, head_width=1000, head_length=500, overhang=2, zorder=100, color=\"dimgray\")\n",
    "ax2.arrow(619000, 113000, 0, 1000, length_includes_head=True, head_width=1000, head_length=500, overhang=2, zorder=100, color=\"dimgray\")\n",
    "\n",
    "# Plot Score\n",
    "#poi_2014_gdf.plot(ax=ax1, column=poi_2014_gdf[\"count_poi_2014\"], zorder=3, cmap=\"Purples\", legend=True, scheme=\"user_Defined\", alpha=0.8, classification_kwds=dict(bins=[38,65,104,157,214,272,355,471,651,906]))\n",
    "poi_2014_higher_tert_gdf.plot(ax=ax1, column=poi_2014_higher_tert_gdf[\"count\"], zorder=3, cmap=\"Purples\", legend=True, scheme=\"user_Defined\", alpha=0.8, classification_kwds=dict(bins=[2, 4, 8, 12, 18, 26, 40, 72, 132]))\n",
    "\n",
    "# Plot score\n",
    "poi_2018_higher_tert_gdf.plot(ax=ax2, column=poi_2018_higher_tert_gdf[\"count\"], zorder=3, cmap=\"Purples\", legend=True, scheme=\"user_Defined\", alpha=0.8, classification_kwds=dict(bins=[2, 4, 8, 12, 18, 26, 40, 72, 132]))\n",
    "\n",
    "# normalize color\n",
    "vmin, vmax, vcenter = poi_2014_higher_tert_gdf[\"count\"].min(), poi_2014_higher_tert_gdf[\"count\"].max(), poi_2014_higher_tert_gdf[\"count\"].median()\n",
    "norm = mcolors.TwoSlopeNorm(vmin=vmin, vcenter=vcenter, vmax=vmax)\n",
    "# create a normalized colorbar\n",
    "cmap = 'Purples'\n",
    "cbar1 = plt.cm.ScalarMappable(norm=norm, cmap=cmap)\n",
    "\n",
    "# normalize color\n",
    "vmin, vmax, vcenter = poi_2018_higher_tert_gdf[\"count\"].min(), poi_2018_higher_tert_gdf[\"count\"].max(), poi_2018_higher_tert_gdf[\"count\"].median()\n",
    "norm = mcolors.TwoSlopeNorm(vmin=vmin, vcenter=vcenter, vmax=vmax)\n",
    "# create a normalized colorbar\n",
    "cmap = 'Purples'\n",
    "cbar2 = plt.cm.ScalarMappable(norm=norm, cmap=cmap)\n",
    "\n",
    "fig.colorbar(cbar2, ax=ax2, fraction=0.036, pad=0.04)\n",
    "fig.colorbar(cbar1, ax=ax1, fraction=0.036, pad=0.04)\n",
    "\n",
    "# Add title\n",
    "#ax.set_title(\"Categories of Gentrification for LSOAs in Kent\", fontdict={'fontsize': '20','fontweight' : '3'}) \n",
    "   \n",
    "plt.savefig(os.path.join(\"Figures\", 'map_count_poi_2014_2018.png'), transparent=True, dpi=300)\n",
    "\n",
    "# Show map\n",
    "plt.show()"
   ]
  },
  {
   "cell_type": "code",
   "execution_count": 110,
   "id": "017ea6bb-8ee4-42b4-92da-477b3e9bf31a",
   "metadata": {},
   "outputs": [
    {
     "data": {
      "image/png": "[encoded data removed]",
      "text/plain": [
       "<Figure size 1440x1440 with 2 Axes>"
      ]
     },
     "metadata": {
      "needs_background": "light"
     },
     "output_type": "display_data"
    }
   ],
   "source": [
    "# Plot \n",
    "\n",
    "# Set axes\n",
    "fig, (ax1, ax2) = plt.subplots(1, 2, figsize=(20,20))\n",
    "\n",
    "sns.set(style=\"whitegrid\")\n",
    "\n",
    "sns.histplot(ax=ax1, data=poi_2014_higher_tert_gdf, x=\"Change\", kde=True, legend = True, color=\"#666fc4\", linewidth=0.5, alpha=0.7, bins=10)\n",
    "sns.histplot(ax=ax2, data=poi_2018_higher_tert_gdf, x=\"Change\", kde=True, legend = True, color=\"#666fc4\", linewidth=0.5, alpha=0.7, bins=10)\n",
    "\n",
    "#plt.axvline(x=37.98, color='gray', linestyle='dashed', linewidth=10)\n",
    "\n",
    "plt.show()"
   ]
  },
  {
   "cell_type": "markdown",
   "id": "006e4cba-df8e-4b43-9039-714ad05e9fb4",
   "metadata": {},
   "source": [
    "3.4 Calculate Change"
   ]
  },
  {
   "cell_type": "code",
   "execution_count": 111,
   "id": "53ba90dd-cfea-4b07-a0bf-5036b0f1be0a",
   "metadata": {},
   "outputs": [],
   "source": [
    "# Sort\n",
    "\n",
    "poi_2014_higher_tert_gdf = poi_2014_higher_tert_gdf.reindex(sorted(poi_2014_higher_tert_gdf.columns), axis=1)\n",
    "poi_2018_higher_tert_gdf = poi_2018_higher_tert_gdf.reindex(sorted(poi_2018_higher_tert_gdf.columns), axis=1)"
   ]
  },
  {
   "cell_type": "code",
   "execution_count": 112,
   "id": "5bbdfd26-e4b1-4ee8-8a9b-c60923b23b90",
   "metadata": {},
   "outputs": [
    {
     "data": {
      "text/plain": [
       "True"
      ]
     },
     "execution_count": 112,
     "metadata": {},
     "output_type": "execute_result"
    }
   ],
   "source": [
    "# Check order is the same https://stackoverflow.com/questions/14224172/equality-in-pandas-dataframes-column-order-matters\n",
    "\n",
    "collist = poi_2014_higher_tert_gdf.columns.to_list()\n",
    "collist2 = poi_2018_higher_tert_gdf.columns.to_list()\n",
    "\n",
    "collist==collist2"
   ]
  },
  {
   "cell_type": "code",
   "execution_count": 113,
   "id": "f8b9c3fd-2c4f-491b-b249-d72d086b5506",
   "metadata": {},
   "outputs": [],
   "source": [
    "# Calculate percent of all POIs\n",
    "\n",
    "poi_2014_higher_tert_gdf[\"prop_2014\"] = poi_2014_higher_tert_gdf[\"count\"]/poi_2014[\"count_poi\"]\n",
    "poi_2018_higher_tert_gdf[\"prop_2018\"] = poi_2018_higher_tert_gdf[\"count\"]/poi_2018[\"count_poi\"]\n",
    "\n"
   ]
  },
  {
   "cell_type": "code",
   "execution_count": 114,
   "id": "cc505d2c-e389-4934-a2be-755dfd2e47ee",
   "metadata": {},
   "outputs": [],
   "source": [
    "# Tidy\n",
    "\n",
    "poi_2014_higher_tert_filt = poi_2014_higher_tert_gdf[[\"LSOA11CD\", \"prop_2014\"]]\n",
    "poi_2018_higher_tert_filt = poi_2018_higher_tert_gdf[[\"LSOA11CD\", \"prop_2018\"]]"
   ]
  },
  {
   "cell_type": "code",
   "execution_count": 115,
   "id": "338b160d-416a-45a7-bb1b-b9e03a69b04a",
   "metadata": {},
   "outputs": [],
   "source": [
    "# Merge\n",
    "\n",
    "higher_tertiary = pd.merge(poi_2014_higher_tert_filt, poi_2018_higher_tert_filt, on=\"LSOA11CD\", how=\"inner\")"
   ]
  },
  {
   "cell_type": "markdown",
   "id": "1a853dd5-b350-400b-a254-599957587aaa",
   "metadata": {},
   "source": [
    "# 4. Final Variables\n",
    "\n",
    "The dataframes are:\n",
    "\n",
    "1. income\n",
    "2. house_prices\n",
    "3. higher_tertiary"
   ]
  },
  {
   "cell_type": "code",
   "execution_count": 116,
   "id": "802af326-71c0-4707-83ea-7397ce4e9fb9",
   "metadata": {},
   "outputs": [
    {
     "name": "stdout",
     "output_type": "stream",
     "text": [
      "There are 902 rows in the dataframe\n",
      "There are 3 columns in the data frame\n",
      "The columns of the dataframe are: Index(['LSOA11CD', 'prop_2014', 'prop_2018'], dtype='object')\n",
      "There are 0 NaN values in the data frame\n",
      "These NaN values are located in columns: []\n"
     ]
    }
   ],
   "source": [
    "infodf(higher_tertiary)"
   ]
  },
  {
   "cell_type": "code",
   "execution_count": 117,
   "id": "1e8d5ce1-b871-45b9-b6bb-6f36340a6e1f",
   "metadata": {},
   "outputs": [],
   "source": [
    "# Merge\n",
    "\n",
    "df = pd.merge(income, house_prices, on=\"LSOA11CD\", how=\"right\")\n",
    "df = pd.merge(df, higher_tertiary, on=\"LSOA11CD\", how=\"right\")"
   ]
  },
  {
   "cell_type": "code",
   "execution_count": 118,
   "id": "b053b3cc-eb91-48cc-adc5-90e25a116a93",
   "metadata": {},
   "outputs": [
    {
     "name": "stdout",
     "output_type": "stream",
     "text": [
      "There are 902 rows in the dataframe\n",
      "There are 7 columns in the data frame\n",
      "The columns of the dataframe are: Index(['LSOA11CD', 'Income_2018', 'Income_2014', 'Median_house_prices_2014',\n",
      "       'Median_house_prices_2018', 'prop_2014', 'prop_2018'],\n",
      "      dtype='object')\n",
      "There are 0 NaN values in the data frame\n",
      "These NaN values are located in columns: []\n"
     ]
    }
   ],
   "source": [
    "infodf(df)"
   ]
  },
  {
   "cell_type": "code",
   "execution_count": 119,
   "id": "e7ad1345-613c-4d0f-895b-a2f621fb0b1f",
   "metadata": {},
   "outputs": [],
   "source": [
    "# Save\n",
    "\n",
    "df.to_csv(os.path.join(\"Cleaned data\", \"nc_ranking_vars.csv\"))\n"
   ]
  }
 ],
 "metadata": {
  "kernelspec": {
   "display_name": "Python 3 (ipykernel)",
   "language": "python",
   "name": "python3"
  },
  "language_info": {
   "codemirror_mode": {
    "name": "ipython",
    "version": 3
   },
   "file_extension": ".py",
   "mimetype": "text/x-python",
   "name": "python",
   "nbconvert_exporter": "python",
   "pygments_lexer": "ipython3",
   "version": "3.9.6"
  }
 },
 "nbformat": 4,
 "nbformat_minor": 5
}
