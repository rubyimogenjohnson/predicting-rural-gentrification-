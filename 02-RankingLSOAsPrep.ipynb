{
 "cells": [
  {
   "cell_type": "markdown",
   "id": "2448c73f-1ec6-4063-902d-f885d6ba01d9",
   "metadata": {},
   "source": [
    "Dissertation\n",
    "    \n",
    "# **Notebook 2: Ranking LSOAs Data Preperation**\n",
    "    \n",
    "This notebook will prepare data from LSOAs to idenifty ascending LSOAs. The four measures will be:\n",
    "\n",
    "1. Household median income\n",
    "2. Median property sale values \n",
    "3. Occupation - testing both occupation categories and NS-SEC Class 1\n",
    "4. Education - Level 4 qualifications and above\n",
    "\n",
    "***"
   ]
  },
  {
   "cell_type": "code",
   "execution_count": 16,
   "id": "4b97fb89-7c10-440c-93ed-dfa588871af5",
   "metadata": {},
   "outputs": [],
   "source": [
    "# Set up notebook \n",
    "\n",
    "# Install packages\n",
    "\n",
    "import pandas as pd\n",
    "import os\n",
    "import geopandas as gpd"
   ]
  },
  {
   "cell_type": "code",
   "execution_count": 17,
   "id": "bcfb044a-660a-4317-93e1-2f3720ec7a77",
   "metadata": {},
   "outputs": [
    {
     "name": "stdout",
     "output_type": "stream",
     "text": [
      "The working directory is /home/jovyan/work/OneDrive/UCL/Dissertation/Notebooks Tidy\n"
     ]
    }
   ],
   "source": [
    "# Look at working dir\n",
    "\n",
    "print(\"The working directory is \" + os.getcwd())"
   ]
  },
  {
   "cell_type": "code",
   "execution_count": 18,
   "id": "c91afce9-0105-440e-a314-ccdfda51de8e",
   "metadata": {},
   "outputs": [],
   "source": [
    "# Set directories\n",
    "\n",
    "data_2001 = os.path.join(\"data\", \"2001\")\n",
    "data_2001_nomis = os.path.join(\"data\", \"2001\", \"NOMIS\")\n",
    "\n",
    "data_2011 = os.path.join(\"data\", \"2011\")\n",
    "data_2011_nomis = os.path.join(\"data\", \"2011\", \"NOMIS\")\n",
    "\n",
    "shapefiles = os.path.join(\"Shapefiles\")\n",
    "\n",
    "profiles = os.path.join(\"LSOA Profiles\")"
   ]
  },
  {
   "cell_type": "code",
   "execution_count": 19,
   "id": "468b8233-9964-43a5-b986-72c34279052f",
   "metadata": {},
   "outputs": [],
   "source": [
    "if os.path.isdir(\"Cleaned data\") is not True:\n",
    "    print(\"Creating 'Cleaned data' directory...\")\n",
    "    os.mkdir(\"Cleaned data\")"
   ]
  },
  {
   "cell_type": "code",
   "execution_count": 20,
   "id": "9f110a0c-2ae4-49f4-9bb0-76bc3cb88b7f",
   "metadata": {},
   "outputs": [],
   "source": [
    "# Functions\n",
    "\n",
    "# Check if merges havebeen successfull\n",
    "\n",
    "def success(olddataframe, newdataframe):\n",
    "    print(f\"There are \" + str(newdataframe.isnull().sum().sum()) + \" NaN values in the data frame\")\n",
    "    print(f\"These NaN values are located in columns: \" + str(newdataframe.columns[newdataframe.isnull().any()].tolist()))\n",
    "    if len(olddataframe) == len(newdataframe):\n",
    "        print(\"Success! The length's are the same\")\n",
    "    else:\n",
    "        print(\"Something is wrong!\")\n",
    "        diff = len(newdataframe)-len(olddataframe)\n",
    "        print(f\"{diff} rows are missing\")\n",
    "        \n",
    "   # Check info of a df\n",
    "\n",
    "def infodf(dataframe):\n",
    "    print(f\"There are \"+str(len(dataframe)) + \" rows in the dataframe\")\n",
    "    print(f\"There are \" + str(dataframe.shape[1]) + \" columns in the data frame\")\n",
    "    print(f\"The columns of the dataframe are: \" + str(dataframe.columns))\n",
    "    print(f\"There are \" + str(dataframe.isnull().sum().sum()) + \" NaN values in the data frame\")\n",
    "    print(f\"These NaN values are located in columns: \" + str(dataframe.columns[dataframe.isnull().any()].tolist()))\n",
    "         \n",
    "def projection(df1, df2):\n",
    "    if df1.geometry.crs==df2.geometry.crs:\n",
    "        print(\"The projections are the same\")\n",
    "    else:\n",
    "        print(\"Need to change the projections\")"
   ]
  },
  {
   "cell_type": "markdown",
   "id": "2b9c1ebf-9210-4281-bcb4-6348f9529687",
   "metadata": {},
   "source": [
    "# 1. 2001 Data\n",
    "\n",
    "1.1 Read in data frame"
   ]
  },
  {
   "cell_type": "code",
   "execution_count": 21,
   "id": "90cbbe60-7d81-4619-9154-855b815bf655",
   "metadata": {},
   "outputs": [],
   "source": [
    "# Read in Kent LSOA Profile\n",
    "\n",
    "census_2001 = pd.read_csv(os.path.join(profiles, \"census_2001_profile.csv\"))"
   ]
  },
  {
   "cell_type": "code",
   "execution_count": 22,
   "id": "d75fd2e3-bf33-4b1b-b6c5-3a684de1a631",
   "metadata": {},
   "outputs": [],
   "source": [
    "# Read in spatial data\n",
    "\n",
    "kent_2001 = gpd.read_file(os.path.join(shapefiles, \"LSOA_KENT_2001.shp\"))"
   ]
  },
  {
   "cell_type": "code",
   "execution_count": 23,
   "id": "f774b099-a282-439f-8e99-92ff0bdcf727",
   "metadata": {},
   "outputs": [],
   "source": [
    "kent_2001 = kent_2001[[\"LSOA01CD\",\"geometry\"]]"
   ]
  },
  {
   "cell_type": "code",
   "execution_count": 24,
   "id": "94e84275-1c3f-47c3-8152-6927d22c12e1",
   "metadata": {},
   "outputs": [],
   "source": [
    "# Make spatial \n",
    "\n",
    "kent_2001_gdf = pd.merge(kent_2001, census_2001, how=\"inner\", on=\"LSOA01CD\")"
   ]
  },
  {
   "cell_type": "code",
   "execution_count": 25,
   "id": "cf386583-a1f1-4212-9f8a-bd40a03c78a5",
   "metadata": {},
   "outputs": [],
   "source": [
    "# Filter to required \n",
    "\n",
    "kent_2001_gdf = kent_2001_gdf[[\n",
    "    # Spatial data\n",
    "    'LSOA01CD', 'geometry', 'OBJECTID', 'LSOA01NM', 'LSOA01NMW', 'Shape__Are', 'Shape__Len', \n",
    "    # Population\n",
    "    'All usual residents',\n",
    "     # House prices\n",
    "    'Average_2001',\n",
    "    # NSSEC\n",
    "    'All categories: NS-SeC', '1. Higher managerial, administrative and professional occupations',\n",
    "    # Occupation Categories\n",
    "     '1. Managers and senior officials',\"All categories: Occupation\",\n",
    "    # Education \n",
    "    \"All categories: Highest level of qualification\", \"Level 4/5 qualifications\",\n",
    "    # Income\n",
    "    \"Totalweeklyincome(£)\"\n",
    "    # Rural classification\n",
    "    #\"RUC01NM\"\n",
    "]]\n",
    "\n"
   ]
  },
  {
   "cell_type": "code",
   "execution_count": 26,
   "id": "b1dbdb89-3b8d-4ec1-af82-c02796a1a657",
   "metadata": {},
   "outputs": [],
   "source": [
    "# Rename\n",
    "\n",
    "kent_2001_gdf = kent_2001_gdf.rename(columns={c: c+'_2001' for c in kent_2001_gdf.columns if c not in ['Average_2001']})\n"
   ]
  },
  {
   "cell_type": "code",
   "execution_count": 27,
   "id": "c7416623-2d3c-45b8-9eab-795208366f11",
   "metadata": {},
   "outputs": [],
   "source": [
    "# Clean names\n",
    "kent_2001_gdf.columns = kent_2001_gdf.columns.str.replace(' ','_')\n"
   ]
  },
  {
   "cell_type": "markdown",
   "id": "49c5df54-c4bc-4901-8b70-c56b673e7b48",
   "metadata": {},
   "source": [
    "1.2 Property prices"
   ]
  },
  {
   "cell_type": "code",
   "execution_count": 28,
   "id": "31e75e27-6fe3-4dda-8d2b-fe21f1c58580",
   "metadata": {},
   "outputs": [],
   "source": [
    "# Read in data\n",
    "\n",
    "property_2001 = kent_2001_gdf[[\"LSOA01CD_2001\",'Average_2001']]"
   ]
  },
  {
   "cell_type": "code",
   "execution_count": 29,
   "id": "bc7a451a-e712-4621-8782-120f20bd98a4",
   "metadata": {},
   "outputs": [
    {
     "name": "stdout",
     "output_type": "stream",
     "text": [
      "There are 28 rows missing values\n"
     ]
    }
   ],
   "source": [
    "print(\"There are \" + str(sum([True for idx,row in property_2001.iterrows() if any(row.isnull())])) + \" rows missing values\")"
   ]
  },
  {
   "cell_type": "code",
   "execution_count": 31,
   "id": "ebcc5004-8fd2-4802-b212-4c0ce5325293",
   "metadata": {},
   "outputs": [],
   "source": [
    "# Read in calculated data - this has mean of neigbs for missing values with orginal values for not missing\n",
    "\n",
    "calculated_house_prices = pd.read_csv(os.path.join(\"Data\", \"Missing_House_Prices_2001_Average.csv\"))"
   ]
  },
  {
   "cell_type": "code",
   "execution_count": 32,
   "id": "83b0fb34-21c6-4967-ae88-2be898e3fb0c",
   "metadata": {},
   "outputs": [],
   "source": [
    "property_2001_merge = pd.merge(property_2001, calculated_house_prices, how=\"left\", left_on = \"LSOA01CD_2001\", right_on=\"LSOA01CD\" )"
   ]
  },
  {
   "cell_type": "code",
   "execution_count": 33,
   "id": "c4c51df1-22ce-4728-b0e8-9ab58eee0aa7",
   "metadata": {},
   "outputs": [
    {
     "data": {
      "text/plain": [
       "Index(['LSOA01CD_2001', 'Average_2001', 'LSOA01CD', 'Average_2001_Inc_Recalc'], dtype='object')"
      ]
     },
     "execution_count": 33,
     "metadata": {},
     "output_type": "execute_result"
    }
   ],
   "source": [
    "property_2001_merge.columns"
   ]
  },
  {
   "cell_type": "code",
   "execution_count": 34,
   "id": "bf419073-bddb-4c35-91b7-3331935f40d0",
   "metadata": {},
   "outputs": [
    {
     "name": "stdout",
     "output_type": "stream",
     "text": [
      "There are 935 rows missing values\n"
     ]
    }
   ],
   "source": [
    "print(\"There are \" + str(sum([True for idx,row in property_2001_merge.iterrows() if any(property_2001_merge[\"Average_2001_Inc_Recalc\"].isnull())])) + \" rows missing values\")"
   ]
  },
  {
   "cell_type": "code",
   "execution_count": 35,
   "id": "713f790d-4c0e-4ab5-9cc0-699fb9100fb3",
   "metadata": {},
   "outputs": [],
   "source": [
    "kent_2001_gdf[\"Average_2001\"] = property_2001_merge[\"Average_2001_Inc_Recalc\"]"
   ]
  },
  {
   "cell_type": "markdown",
   "id": "5877b271-4ffd-446b-bbe7-d801a6cacaeb",
   "metadata": {},
   "source": [
    "1.3 Make data proportional "
   ]
  },
  {
   "cell_type": "code",
   "execution_count": 36,
   "id": "f847b132-498c-4bcf-a736-6b8c44bf55ea",
   "metadata": {},
   "outputs": [
    {
     "name": "stdout",
     "output_type": "stream",
     "text": [
      "There are 1 rows missing values\n",
      "These missing values are in ['Average_2001']\n"
     ]
    }
   ],
   "source": [
    "print(\"There are \" + str(sum([True for idx,row in kent_2001_gdf.iterrows() if any(row.isnull())])) + \" rows missing values\")\n",
    "print(\"These missing values are in \" + str(kent_2001_gdf.columns[kent_2001_gdf.isna().any()].tolist()))"
   ]
  },
  {
   "cell_type": "markdown",
   "id": "9596e7f4-eef1-42d8-8a6a-5c1f689604ee",
   "metadata": {},
   "source": [
    "1.3 Propotionalise "
   ]
  },
  {
   "cell_type": "code",
   "execution_count": 37,
   "id": "d221cd2a-5e6b-4db6-a50f-6e0641ef6e80",
   "metadata": {},
   "outputs": [],
   "source": [
    "# Proportionalise data\n",
    "\n",
    "kent_2001_gdf[\"Higher_managerial_administrative_and_professional_occupations_2001_prop\"] = kent_2001_gdf[\"1._Higher_managerial,_administrative_and_professional_occupations_2001\"]/kent_2001_gdf[\"All_categories:_NS-SeC_2001\"]\n",
    "kent_2001_gdf[\"Managers_and_senior_officials_2001_prop\"] = kent_2001_gdf[\"1._Managers_and_senior_officials_2001\"] /kent_2001_gdf[\"All_categories:_Occupation_2001\"] \n",
    "kent_2001_gdf[\"Level_4_qualifications_2001_prop\"] = kent_2001_gdf[\"Level_4/5_qualifications_2001\"]  / kent_2001_gdf[\"All_categories:_Highest_level_of_qualification_2001\"]\n"
   ]
  },
  {
   "cell_type": "code",
   "execution_count": 38,
   "id": "8dc4a1f6-5b8a-4e41-b204-bfc3b54cc0b9",
   "metadata": {},
   "outputs": [],
   "source": [
    "# Rename\n",
    "\n",
    "kent_2001_gdf = kent_2001_gdf.rename(columns={\"Average_2001\":\"Mean_house_prices_2001\"})"
   ]
  },
  {
   "cell_type": "code",
   "execution_count": 39,
   "id": "a7f6d5f7-a868-40d4-8147-dc2957e89566",
   "metadata": {},
   "outputs": [],
   "source": [
    "# Calculate the median income \n",
    "\n",
    "kent_2001_gdf[\"Median_income_2001\"] = kent_2001_gdf[\"Totalweeklyincome(£)_2001\"] * 52"
   ]
  },
  {
   "cell_type": "code",
   "execution_count": 40,
   "id": "711f8aef-ad87-4f9d-86ad-cb71c96da661",
   "metadata": {},
   "outputs": [],
   "source": [
    "# Clean for geoconversion export\n",
    "\n",
    "kent_2001_gdf_clean = kent_2001_gdf[[\"LSOA01CD_2001\", \"Mean_house_prices_2001\",\"Higher_managerial_administrative_and_professional_occupations_2001_prop\",\"Managers_and_senior_officials_2001_prop\",\"Level_4_qualifications_2001_prop\", \"Median_income_2001\"]]"
   ]
  },
  {
   "cell_type": "code",
   "execution_count": 41,
   "id": "5a82d9f6-7656-4799-81a2-784734d35032",
   "metadata": {},
   "outputs": [
    {
     "name": "stderr",
     "output_type": "stream",
     "text": [
      "/tmp/ipykernel_1292/621514651.py:3: SettingWithCopyWarning: \n",
      "A value is trying to be set on a copy of a slice from a DataFrame.\n",
      "Try using .loc[row_indexer,col_indexer] = value instead\n",
      "\n",
      "See the caveats in the documentation: https://pandas.pydata.org/pandas-docs/stable/user_guide/indexing.html#returning-a-view-versus-a-copy\n",
      "  kent_2001_gdf_clean[[\"Mean_house_prices_2001\", \"Higher_managerial_administrative_and_professional_occupations_2001_prop\", \"Managers_and_senior_officials_2001_prop\", \"Level_4_qualifications_2001_prop\", \"Median_income_2001\"]] = kent_2001_gdf_clean[[\"Mean_house_prices_2001\", \"Higher_managerial_administrative_and_professional_occupations_2001_prop\", \"Managers_and_senior_officials_2001_prop\", \"Level_4_qualifications_2001_prop\", \"Median_income_2001\"]].apply(pd.to_numeric)\n"
     ]
    }
   ],
   "source": [
    "# Set data types\n",
    "\n",
    "kent_2001_gdf_clean[[\"Mean_house_prices_2001\", \"Higher_managerial_administrative_and_professional_occupations_2001_prop\", \"Managers_and_senior_officials_2001_prop\", \"Level_4_qualifications_2001_prop\", \"Median_income_2001\"]] = kent_2001_gdf_clean[[\"Mean_house_prices_2001\", \"Higher_managerial_administrative_and_professional_occupations_2001_prop\", \"Managers_and_senior_officials_2001_prop\", \"Level_4_qualifications_2001_prop\", \"Median_income_2001\"]].apply(pd.to_numeric)\n"
   ]
  },
  {
   "cell_type": "code",
   "execution_count": 42,
   "id": "452ed4fb-245f-4ed0-8558-4cc50b813041",
   "metadata": {},
   "outputs": [],
   "source": [
    "# Save\n",
    "\n",
    "kent_2001_gdf_clean.to_csv(os.path.join(\"Cleaned data\", \"kent_2001_before_geoconversion.csv\"))"
   ]
  },
  {
   "cell_type": "markdown",
   "id": "faf63ff2-e4a4-4405-b4a2-4c5c407dbeec",
   "metadata": {},
   "source": [
    "1.4 Read in geoconverted data"
   ]
  },
  {
   "cell_type": "code",
   "execution_count": 43,
   "id": "ed1cd338-7ef5-45c9-8729-9a8a88c21555",
   "metadata": {},
   "outputs": [],
   "source": [
    "edu = pd.read_csv(os.path.join(\"Cleaned data\", \"geoconvert\", \"edugeoconverted.csv\"))\n",
    "cat = pd.read_csv(os.path.join(\"Cleaned data\", \"geoconvert\", \"catgeoconverted.csv\"))\n",
    "nssec = pd.read_csv(os.path.join(\"Cleaned data\", \"geoconvert\", \"nssecgeoconverted.csv\"))\n",
    "house = pd.read_csv(os.path.join(\"Cleaned data\", \"geoconvert\", \"housegeoconverted.csv\"))\n",
    "income = pd.read_csv(os.path.join(\"Cleaned data\", \"geoconvert\", \"incomegeoconverted.csv\"))"
   ]
  },
  {
   "cell_type": "code",
   "execution_count": 44,
   "id": "67bdb0ed-e25d-4781-a1b2-ca3b61ed85af",
   "metadata": {},
   "outputs": [],
   "source": [
    "# Merge\n",
    "\n",
    "kent_2001_final = pd.merge(edu, cat, on=\"LSOA11CD\", how=\"inner\")\n",
    "kent_2001_final = pd.merge(kent_2001_final, nssec, on=\"LSOA11CD\", how=\"inner\")\n",
    "kent_2001_final = pd.merge(kent_2001_final, house, on=\"LSOA11CD\", how=\"inner\")\n",
    "kent_2001_final = pd.merge(kent_2001_final, income, on=\"LSOA11CD\", how=\"inner\")\n"
   ]
  },
  {
   "cell_type": "code",
   "execution_count": 45,
   "id": "697e4ae3-db36-4bb8-82d8-45938015305c",
   "metadata": {},
   "outputs": [],
   "source": [
    "# Fix missing LSOA\n",
    "\n",
    "kent_2001_gdf_clean.loc[934, \"Mean_house_prices_2001\"]=89369"
   ]
  },
  {
   "cell_type": "code",
   "execution_count": 46,
   "id": "26057d2c-2a87-4e8b-8fff-9ac37762009a",
   "metadata": {},
   "outputs": [],
   "source": [
    "# Change value\n",
    "x = kent_2001_gdf_clean[kent_2001_gdf_clean[\"LSOA01CD_2001\"]==\"E01024312\"]\n",
    "x = x.rename(columns={\"LSOA01CD_2001\":\"LSOA11CD\"})"
   ]
  },
  {
   "cell_type": "code",
   "execution_count": 47,
   "id": "bed27628-aacc-43a3-844f-429a2a75daca",
   "metadata": {},
   "outputs": [],
   "source": [
    "kent_2001_final = pd.concat([kent_2001_final, x])"
   ]
  },
  {
   "cell_type": "code",
   "execution_count": 48,
   "id": "00ece975-4ff3-4023-9471-eca0daa0a1a6",
   "metadata": {},
   "outputs": [
    {
     "name": "stdout",
     "output_type": "stream",
     "text": [
      "ok\n"
     ]
    }
   ],
   "source": [
    "if len(edu) == len(cat) == len(nssec) == len(house):\n",
    "    print(\"ok\")\n",
    "else:\n",
    "        print(\"issue\")\n",
    "        print(len(kent_2001_gdf))\n",
    "        print(len(cat))"
   ]
  },
  {
   "cell_type": "code",
   "execution_count": 49,
   "id": "22e57c33-be48-4cdf-ab6e-4c10168453e6",
   "metadata": {},
   "outputs": [
    {
     "name": "stdout",
     "output_type": "stream",
     "text": [
      "There are 954 rows in the dataframe\n",
      "There are 6 columns in the data frame\n",
      "The columns of the dataframe are: Index(['LSOA11CD', 'Level_4_qualifications_2001_prop',\n",
      "       'Managers_and_senior_officials_2001_prop',\n",
      "       'Higher_managerial_administrative_and_professional_occupations_2001_prop',\n",
      "       'Mean_house_prices_2001', 'Median_income_2001'],\n",
      "      dtype='object')\n",
      "There are 0 NaN values in the data frame\n",
      "These NaN values are located in columns: []\n"
     ]
    }
   ],
   "source": [
    "infodf(kent_2001_final)"
   ]
  },
  {
   "cell_type": "code",
   "execution_count": 50,
   "id": "36e3b731-e47a-4ce6-979a-43a62f7e09ea",
   "metadata": {},
   "outputs": [],
   "source": [
    "# Clip to actual 902 LSOAs\n",
    "\n",
    "kent_2011 = gpd.read_file(os.path.join(shapefiles, \"LSOA_KENT_2011.shp\"))\n",
    "\n",
    "kent_2001_final = pd.merge(kent_2001_final, kent_2011, on=\"LSOA11CD\", how=\"right\")"
   ]
  },
  {
   "cell_type": "code",
   "execution_count": 51,
   "id": "5e88a397-ffa8-4457-b729-1eb9cadb284d",
   "metadata": {},
   "outputs": [],
   "source": [
    "# Rename\n",
    "\n",
    "kent_2001_final = kent_2001_final.rename(columns={\"Level_4_qualifications_2001_prop\":\"Edu_2001_prop\", \"Managers_and_senior_officials_2001_prop\":\"NSSEC_level_1_2001_prop\", \n",
    "                                                  \"Higher_managerial_administrative_and_professional_occupations_2001_prop\":\"Cat_2001_prop\"})"
   ]
  },
  {
   "cell_type": "markdown",
   "id": "d2b1cecd-3967-4999-b8d1-9e57282e613f",
   "metadata": {},
   "source": [
    "# 2. 2011 Data"
   ]
  },
  {
   "cell_type": "code",
   "execution_count": 52,
   "id": "f8a9d375-76d3-4be2-98ea-c95d556d0ac7",
   "metadata": {},
   "outputs": [],
   "source": [
    "# Read in Kent LSOA Profile\n",
    "\n",
    "census_2011 = pd.read_csv(os.path.join(profiles, \"census_2011_profile.csv\"))"
   ]
  },
  {
   "cell_type": "code",
   "execution_count": 53,
   "id": "ff3c21c8-eeea-401c-b198-e7fa74aab6d3",
   "metadata": {},
   "outputs": [],
   "source": [
    "# Read in spatial data\n",
    "\n",
    "kent_2011 = gpd.read_file(os.path.join(shapefiles, \"LSOA_KENT_2011.shp\"))"
   ]
  },
  {
   "cell_type": "code",
   "execution_count": 54,
   "id": "72dd56f8-3612-479a-8ebd-d44762b66bc7",
   "metadata": {},
   "outputs": [],
   "source": [
    "kent_2011 = kent_2011[[\"LSOA11CD\",\"geometry\"]]"
   ]
  },
  {
   "cell_type": "code",
   "execution_count": 55,
   "id": "dbd93f20-b630-4344-8b68-15b4084c9093",
   "metadata": {},
   "outputs": [],
   "source": [
    "# Make spatial \n",
    "\n",
    "kent_2011_gdf = pd.merge(kent_2011, census_2011, how=\"inner\", on=\"LSOA11CD\")"
   ]
  },
  {
   "cell_type": "code",
   "execution_count": 56,
   "id": "80bf0c4c-b4de-4e9d-bf0e-9583b7401d8d",
   "metadata": {},
   "outputs": [],
   "source": [
    "# Filter to required \n",
    "\n",
    "kent_2011_gdf = kent_2011_gdf[[\n",
    "    # Spatial data\n",
    "    'LSOA11CD', \n",
    "    # Population\n",
    "    'All usual residents',\n",
    "     # House prices\n",
    "    'Average_2011',\n",
    "    # Occupations\n",
    "    'All categories: NS-SeC', '1. Higher managerial, administrative and professional occupations',\n",
    "    # Occupation Categories\n",
    "     '1. Managers, directors and senior officials',\"All categories: Occupation\",\n",
    "    # Education \n",
    "    \"All categories: Highest level of qualification\", \"Highest level of qualification: Level 4 qualifications and above\",\n",
    "    # Income\n",
    "    \"Totalweeklyincome(£)\"\n",
    "    # Rural classification\n",
    "    #\"RUC01NM\"\n",
    "]]\n"
   ]
  },
  {
   "cell_type": "code",
   "execution_count": 57,
   "id": "b8a2a03f-1bf2-440a-b0d8-b4d2fa5e724f",
   "metadata": {},
   "outputs": [],
   "source": [
    "# Clean names\n",
    "\n",
    "kent_2011_gdf = kent_2011_gdf.rename(columns={c: c+'_2011' for c in kent_2011_gdf.columns if c not in ['Average_2011', \"LSOA11CD\"]})"
   ]
  },
  {
   "cell_type": "code",
   "execution_count": 58,
   "id": "070df595-bb49-43a3-bd7f-6066735ed5df",
   "metadata": {},
   "outputs": [],
   "source": [
    "kent_2011_gdf.columns = kent_2011_gdf.columns.str.replace(' ','_')"
   ]
  },
  {
   "cell_type": "code",
   "execution_count": 59,
   "id": "7fc36022-dfe9-45be-903d-3e828eccc7e6",
   "metadata": {},
   "outputs": [
    {
     "name": "stdout",
     "output_type": "stream",
     "text": [
      "There are 0 rows missing values\n",
      "These missing values are in []\n"
     ]
    }
   ],
   "source": [
    "print(\"There are \" + str(sum([True for idx,row in kent_2011_gdf.iterrows() if any(row.isnull())])) + \" rows missing values\")\n",
    "print(\"These missing values are in \" + str(kent_2011_gdf.columns[kent_2011_gdf.isna().any()].tolist()))"
   ]
  },
  {
   "cell_type": "code",
   "execution_count": 60,
   "id": "21633991-b488-4a8a-abde-5dda1a746c66",
   "metadata": {},
   "outputs": [],
   "source": [
    "# Proportionalise data\n",
    "\n",
    "kent_2011_gdf[\"NSSEC_level_1_2011_prop\"] = kent_2011_gdf[\"1._Higher_managerial,_administrative_and_professional_occupations_2011\"]/kent_2011_gdf[\"All_categories:_NS-SeC_2011\"]\n",
    "kent_2011_gdf[\"Cat_2011_prop\"] = kent_2011_gdf[\"1._Managers,_directors_and_senior_officials_2011\"] /kent_2011_gdf[\"All_categories:_Occupation_2011\"] \n",
    "kent_2011_gdf[\"Edu_2011_prop\"] = kent_2011_gdf[\"Highest_level_of_qualification:_Level_4_qualifications_and_above_2011\"]  / kent_2011_gdf[\"All_categories:_Highest_level_of_qualification_2011\"]\n",
    "kent_2011_gdf[\"Median_income_2011\"] = kent_2011_gdf[\"Totalweeklyincome(£)_2011\"] * 52\n",
    "kent_2011_gdf = kent_2011_gdf.rename(columns={\"Average_2011\":\"Mean_house_prices_2011\"})"
   ]
  },
  {
   "cell_type": "code",
   "execution_count": 61,
   "id": "c956e786-42ec-433b-bf7a-2e926f45b0d7",
   "metadata": {},
   "outputs": [],
   "source": [
    "kent_2011_gdf.replace(',','', regex=True, inplace=True)"
   ]
  },
  {
   "cell_type": "code",
   "execution_count": 62,
   "id": "da5e9df0-d495-4309-b8b0-699f2cd248c5",
   "metadata": {},
   "outputs": [],
   "source": [
    "# Replace DIV issue \n",
    "\n",
    "kent_2011_gdf.loc[401, \"Mean_house_prices_2011\"]=196060"
   ]
  },
  {
   "cell_type": "code",
   "execution_count": 63,
   "id": "df08d524-714d-405c-b73a-aa0bcede8605",
   "metadata": {},
   "outputs": [],
   "source": [
    "kent_2011_gdf[['Median_income_2011', 'NSSEC_level_1_2011_prop', 'Cat_2011_prop','Edu_2011_prop', \"Mean_house_prices_2011\"]] = kent_2011_gdf[['Median_income_2011', 'NSSEC_level_1_2011_prop', 'Cat_2011_prop',       'Edu_2011_prop', \"Mean_house_prices_2011\"]].apply(pd.to_numeric)"
   ]
  },
  {
   "cell_type": "code",
   "execution_count": 64,
   "id": "09ac680a-27c5-4de1-8134-34719540b487",
   "metadata": {},
   "outputs": [],
   "source": [
    "kent_2011_gdf_clean = kent_2011_gdf[[\"LSOA11CD\", 'Median_income_2011', 'NSSEC_level_1_2011_prop', 'Cat_2011_prop','Edu_2011_prop', \"Mean_house_prices_2011\"]]"
   ]
  },
  {
   "cell_type": "code",
   "execution_count": 65,
   "id": "4e0611ef-963e-4474-98e3-a1922b57e231",
   "metadata": {},
   "outputs": [],
   "source": [
    "kent_2011_final = kent_2011_gdf_clean"
   ]
  },
  {
   "cell_type": "markdown",
   "id": "3b8e3000-eef0-4e0d-981c-b608b9e2ccc1",
   "metadata": {},
   "source": [
    "# 4. Merge dataframes"
   ]
  },
  {
   "cell_type": "code",
   "execution_count": 66,
   "id": "4a408106-883a-4521-9779-ca16b7405ae3",
   "metadata": {},
   "outputs": [],
   "source": [
    "df = pd.merge(kent_2001_final, kent_2011_final, how=\"right\", on=\"LSOA11CD\")"
   ]
  },
  {
   "cell_type": "code",
   "execution_count": 67,
   "id": "957e270f-2731-48d8-ad3e-3584b52f7f84",
   "metadata": {},
   "outputs": [],
   "source": [
    "# Put into order\n",
    "\n",
    "df = df[[\"LSOA11CD\",\n",
    "     \n",
    "     # Income     \n",
    "    \"Median_income_2001\", \"Median_income_2011\",\n",
    "       \n",
    "     # House prices     \n",
    "    \"Mean_house_prices_2001\", \"Mean_house_prices_2011\",\n",
    "       \n",
    "     # Education\n",
    "    \"Edu_2001_prop\", \"Edu_2011_prop\",\n",
    "     \n",
    "     # NSSEC\n",
    "     \"NSSEC_level_1_2001_prop\",\"NSSEC_level_1_2011_prop\",\n",
    "       \n",
    "     # Job catagories \n",
    "     \"Cat_2001_prop\", \"Cat_2011_prop\"\n",
    "     ]]"
   ]
  },
  {
   "cell_type": "code",
   "execution_count": 68,
   "id": "624b2da3-6bc4-4f18-a811-1f4a20cad9b6",
   "metadata": {},
   "outputs": [
    {
     "name": "stdout",
     "output_type": "stream",
     "text": [
      "There are 902 rows in the dataframe\n",
      "There are 11 columns in the data frame\n",
      "The columns of the dataframe are: Index(['LSOA11CD', 'Median_income_2001', 'Median_income_2011',\n",
      "       'Mean_house_prices_2001', 'Mean_house_prices_2011', 'Edu_2001_prop',\n",
      "       'Edu_2011_prop', 'NSSEC_level_1_2001_prop', 'NSSEC_level_1_2011_prop',\n",
      "       'Cat_2001_prop', 'Cat_2011_prop'],\n",
      "      dtype='object')\n",
      "There are 0 NaN values in the data frame\n",
      "These NaN values are located in columns: []\n"
     ]
    }
   ],
   "source": [
    "infodf(df)"
   ]
  },
  {
   "cell_type": "code",
   "execution_count": 69,
   "id": "40618db3-0c36-4a1d-81c9-2d0a803748e7",
   "metadata": {},
   "outputs": [
    {
     "name": "stdout",
     "output_type": "stream",
     "text": [
      "We have 902 LSOAs in final 2001 df\n",
      "We have 902 LSOAs in final 2011 df\n",
      "We have 902 LSOAs in final df\n",
      "All LSOAs are there\n",
      "But there is a discrepancy\n"
     ]
    }
   ],
   "source": [
    "# Lets check the df\n",
    "\n",
    "print(\"We have \" + str(len(kent_2001_final)) + \" LSOAs in final 2001 df\")\n",
    "print(\"We have \" + str(len(kent_2011_final)) + \" LSOAs in final 2011 df\")\n",
    "print(\"We have \" + str(len(df)) + \" LSOAs in final df\")\n",
    "\n",
    "if len(df)==len(kent_2011):\n",
    "    print(\"All LSOAs are there\")\n",
    "else:\n",
    "    print(\"We are missing \" + str(len(kent_2011)- len(df)) + \" LSOA(s)\")\n",
    "print(\"But there is a discrepancy\")"
   ]
  },
  {
   "cell_type": "code",
   "execution_count": 70,
   "id": "c0908cce-c9f0-48e3-b5ae-f2f27181c7c7",
   "metadata": {},
   "outputs": [
    {
     "name": "stdout",
     "output_type": "stream",
     "text": [
      "There are 0 NaN values in the data frame\n",
      "These NaN values are located in columns: []\n",
      "Success! The length's are the same\n",
      "There are 0 NaN values in the data frame\n",
      "These NaN values are located in columns: []\n",
      "Success! The length's are the same\n"
     ]
    }
   ],
   "source": [
    "success(df, kent_2001_final)\n",
    "success(df, kent_2011_final)"
   ]
  },
  {
   "cell_type": "code",
   "execution_count": 71,
   "id": "9bba2b80-20e7-4d62-8573-c192f05cae06",
   "metadata": {},
   "outputs": [],
   "source": [
    "df.to_csv(os.path.join(\"Cleaned data\", \"ranking_vars.csv\"))"
   ]
  }
 ],
 "metadata": {
  "kernelspec": {
   "display_name": "Python 3 (ipykernel)",
   "language": "python",
   "name": "python3"
  },
  "language_info": {
   "codemirror_mode": {
    "name": "ipython",
    "version": 3
   },
   "file_extension": ".py",
   "mimetype": "text/x-python",
   "name": "python",
   "nbconvert_exporter": "python",
   "pygments_lexer": "ipython3",
   "version": "3.9.6"
  }
 },
 "nbformat": 4,
 "nbformat_minor": 5
}
